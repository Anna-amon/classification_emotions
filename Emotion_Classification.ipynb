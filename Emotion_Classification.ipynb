{
  "cells": [
    {
      "cell_type": "markdown",
      "metadata": {
        "id": "ITYxL3_wld8F"
      },
      "source": [
        "## **Emotion Recognition Classification Task using the My Emotion Data Set**\n",
        "\n",
        "The data consists of 48x48 pixel grayscale images of faces, each representing one of seven categories:\n",
        "\n",
        "😡 0=Angry\n",
        "🤢 1=Disgust\n",
        "😨 2=Fear\n",
        "😀 3=Happy\n",
        "🥺 4=Sad\n",
        "😲 5=Surprise\n",
        "😐 6=Neutral.\n",
        "\n",
        "**Overview**\n",
        "\n",
        "Firstly, we explored the datatset, to get an understanding of missing values, class imbalances and the shape and size of the data. We began by creating a standard machine learning baseline model. Then, we created a Deep Nueral Network with three layers and expored various hyperparameters. Next, we considered the ResNet50 model and hypertuned this in an attempt to achieve optimum performance, and then briefly, we explored the more recent variation of this, ResNet50V2.\n",
        "\n",
        "Our best model is ResNet50, using a learning rate scheduler and early stopping to achieve optimum performance. After hyperameter tuning, data augmentation and different configurations of the ResNet50 model, we managed to achieve 62% on the test set, which isn't a bad score, although, we did not manage to see the model converge to the level we hoped. We suspect ResNet50V2 may perform better if we had the time to look into additonal hyperparameter tuning, more or less layers, or other more complex or simple models. \n",
        "\n",
        "\n",
        "**Notebook Contents:**\n",
        "\n",
        "✅   Import dataset and libraries\n",
        "\n",
        "✅   Exploratory Data Analysis\n",
        "\n",
        "✅   Methodology and pre-processing\n",
        "\n",
        "  - Smote\n",
        "  - Train and Validation, including Stratified Sampling\n",
        "  - Data Augmentation\n",
        "\n",
        "✅   Standard Machine Learning Model\n",
        "\n",
        "✅   Deep Neural Network\n",
        "\n",
        "✅ Transfer Learning; ResNet50\n",
        "\n",
        "   - Model 0: basic, no augmentation\n",
        "   - Model 1: Adam, 2 layers, augmentation, batch norm\n",
        "   - Model 2: Adam, SDG, 2 layers augmentation, batch norm, dropout\n",
        "   - Model 3: Adam, 3 layers, LR scheduler, batch norm\n",
        "   - Apply best mode to train set\n",
        "   - Make predictions on test set\n",
        "\n",
        "✅ Transfer Learning; ResNet50V2\n",
        "\n",
        "✅ Findings, Results and Suggestions for Improvements\n",
        "\n",
        "The results tables are below, but more detail and explanation can be found at the end of our code. This is the mean val accuracy cross epochs, not neccessarily the best score at the end of one of the epochs.\n",
        "\n",
        "\n",
        "\n"
      ]
    },
    {
      "cell_type": "markdown",
      "metadata": {
        "id": "Mt-0DWAlh8gX"
      },
      "source": [
        "```\n",
        "\n",
        "```\n",
        "\n",
        "**Results Table for model with full train and test**\n",
        "\n",
        "| Model                |  Accuracy         | Standard Deviation |\n",
        "|--------------------- |-------------------|--------------------|\n",
        "| ResNet50 Model train |       62%         |        0.04        |\n",
        "| Best Model Test Set  |         62%       |  Unrecovered        |\n",
        "| Kaggle Score         |         62%       |        Unrecovered |\n",
        "\n",
        "```\n",
        "\n",
        "```\n",
        "\n",
        "\n",
        "**Results Table for model with Train and Val**\n",
        "\n",
        "| Model                | Val Mean Accuracy | Standard Deviation |\n",
        "|--------------------- |-------------------|--------------------|\n",
        "| Random Forest        |         43%       |   Unrecovered      |\n",
        "| DNN Basic            |         33%       |        0.06        |\n",
        "| DNN Random Search    |        36%        |        0.03        |\n",
        "| ResNet50 Model 0     |       51%         |        0.07        |\n",
        "| ResNet50 Model 1     |         52%       |        0.06        |\n",
        "| ResNet50 Model 2     |         48%       |      0.06          |\n",
        "| ResNet50 Model 3     |         47%       |         0.19       |\n",
        "| ResNet50V2 Model 5   |         55%       |         0.01       |\n",
        "\n",
        "\n",
        "```"
      ]
    },
    {
      "cell_type": "markdown",
      "metadata": {
        "id": "aszhbSDK2Nl6"
      },
      "source": [
        "✅ **Import Datasets and libraries**"
      ]
    },
    {
      "cell_type": "markdown",
      "metadata": {
        "id": "XanwTccmGHEr"
      },
      "source": [
        "1. Install Keras Tuner"
      ]
    },
    {
      "cell_type": "code",
      "execution_count": null,
      "metadata": {
        "colab": {
          "base_uri": "https://localhost:8080/"
        },
        "id": "soXBg7COZcm_",
        "outputId": "d836e5b1-3f48-4c09-d18d-88c9a929f4ac"
      },
      "outputs": [
        {
          "name": "stdout",
          "output_type": "stream",
          "text": [
            "Collecting keras-tuner\n",
            "  Downloading keras_tuner-1.4.7-py3-none-any.whl (129 kB)\n",
            "\u001b[2K     \u001b[90m━━━━━━━━━━━━━━━━━━━━━━━━━━━━━━━━━━━━━━━━\u001b[0m \u001b[32m129.1/129.1 kB\u001b[0m \u001b[31m3.3 MB/s\u001b[0m eta \u001b[36m0:00:00\u001b[0m\n",
            "\u001b[?25hRequirement already satisfied: keras in /usr/local/lib/python3.10/dist-packages (from keras-tuner) (2.15.0)\n",
            "Requirement already satisfied: packaging in /usr/local/lib/python3.10/dist-packages (from keras-tuner) (24.0)\n",
            "Requirement already satisfied: requests in /usr/local/lib/python3.10/dist-packages (from keras-tuner) (2.31.0)\n",
            "Collecting kt-legacy (from keras-tuner)\n",
            "  Downloading kt_legacy-1.0.5-py3-none-any.whl (9.6 kB)\n",
            "Requirement already satisfied: charset-normalizer<4,>=2 in /usr/local/lib/python3.10/dist-packages (from requests->keras-tuner) (3.3.2)\n",
            "Requirement already satisfied: idna<4,>=2.5 in /usr/local/lib/python3.10/dist-packages (from requests->keras-tuner) (3.6)\n",
            "Requirement already satisfied: urllib3<3,>=1.21.1 in /usr/local/lib/python3.10/dist-packages (from requests->keras-tuner) (2.0.7)\n",
            "Requirement already satisfied: certifi>=2017.4.17 in /usr/local/lib/python3.10/dist-packages (from requests->keras-tuner) (2024.2.2)\n",
            "Installing collected packages: kt-legacy, keras-tuner\n",
            "Successfully installed keras-tuner-1.4.7 kt-legacy-1.0.5\n"
          ]
        }
      ],
      "source": [
        "pip install keras-tuner"
      ]
    },
    {
      "cell_type": "markdown",
      "metadata": {
        "id": "LUNJ0jtTGK50"
      },
      "source": [
        "2. Import standard libraries"
      ]
    },
    {
      "cell_type": "code",
      "execution_count": null,
      "metadata": {
        "id": "0IceuOLkPwWk"
      },
      "outputs": [],
      "source": [
        "# Standard library imports\n",
        "import numpy as np\n",
        "import matplotlib.pyplot as plt\n",
        "import pandas as pd\n",
        "import sklearn\n",
        "from sklearn.linear_model import Perceptron\n",
        "from sklearn.model_selection import train_test_split, StratifiedKFold\n",
        "from sklearn.preprocessing import StandardScaler\n",
        "\n",
        "# TensorFlow and Keras imports\n",
        "import tensorflow as tf\n",
        "from tensorflow import keras\n",
        "from tensorflow.keras import layers, regularizers, initializers\n",
        "from tensorflow.keras.preprocessing.image import ImageDataGenerator\n",
        "from tensorflow.keras.utils import to_categorical\n",
        "import keras_tuner as kt\n",
        "from keras_tuner import Hyperband\n",
        "from tensorflow.keras import layers, models\n",
        "from keras_tuner.tuners import RandomSearch\n",
        "from tensorflow.keras.optimizers import Adam, SGD, RMSprop\n",
        "from sklearn.metrics import confusion_matrix, classification_report\n",
        "from tensorflow.keras.callbacks import EarlyStopping\n",
        "from tensorflow.keras.utils import plot_model\n",
        "from IPython.display import Image\n",
        "from tensorflow.keras.layers import Dense, GlobalAveragePooling2D, BatchNormalization, Activation, Conv2D\n",
        "from tensorflow.keras.models import Model\n",
        "from tensorflow.keras.layers import Dropout\n",
        "from tensorflow.keras.applications import ResNet50\n",
        "from tensorflow.keras.optimizers import Adam\n",
        "from sklearn.model_selection import train_test_split\n",
        "from tensorflow.keras.layers import Add\n",
        "from tensorflow.keras.models import Sequential\n",
        "from tensorflow.keras.layers import Flatten\n",
        "from collections import Counter\n",
        "from tensorflow.keras.applications import ResNet50V2\n",
        "\n",
        "# Sklearn imports\n",
        "from sklearn.ensemble import RandomForestClassifier\n",
        "from sklearn.metrics import accuracy_score, classification_report"
      ]
    },
    {
      "cell_type": "markdown",
      "metadata": {
        "id": "QObtAcd2GTt3"
      },
      "source": [
        "3. Import data"
      ]
    },
    {
      "cell_type": "code",
      "execution_count": null,
      "metadata": {
        "colab": {
          "base_uri": "https://localhost:8080/"
        },
        "id": "v5Bx_010k_10",
        "outputId": "8e2c43b2-651a-4937-b21f-8757744bc58a"
      },
      "outputs": [
        {
          "name": "stdout",
          "output_type": "stream",
          "text": [
            "Mounted at /content/drive\n"
          ]
        }
      ],
      "source": [
        "from google.colab import drive\n",
        "drive.mount('/content/drive')"
      ]
    },
    {
      "cell_type": "code",
      "execution_count": null,
      "metadata": {
        "id": "c6L1GzkQldIq"
      },
      "outputs": [],
      "source": [
        "file_path = '/content/drive/My Drive/my_emotion_train.csv'\n",
        "data = pd.read_csv(file_path)"
      ]
    },
    {
      "cell_type": "code",
      "execution_count": null,
      "metadata": {
        "id": "7TdSZaBzWSCl"
      },
      "outputs": [],
      "source": [
        "file_path = '/content/drive/My Drive/my_emotion_test.csv'\n",
        "test_data = pd.read_csv(file_path)"
      ]
    },
    {
      "cell_type": "code",
      "execution_count": null,
      "metadata": {
        "id": "TDrgiTcqLX3m"
      },
      "outputs": [],
      "source": [
        "# data = pd.read_csv('my_emotion_train.csv')"
      ]
    },
    {
      "cell_type": "markdown",
      "metadata": {
        "id": "XT2r_0ojGV7K"
      },
      "source": [
        "✅ **Exploratory Data Analysis**"
      ]
    },
    {
      "cell_type": "markdown",
      "metadata": {
        "id": "LuwCD_nMGZbK"
      },
      "source": [
        "1. Shape of dataset"
      ]
    },
    {
      "cell_type": "code",
      "execution_count": null,
      "metadata": {
        "colab": {
          "base_uri": "https://localhost:8080/"
        },
        "id": "5ghz4aP1PwWo",
        "outputId": "44a71bfd-f3f8-4ea8-b6a1-274ba2b844ab"
      },
      "outputs": [
        {
          "name": "stdout",
          "output_type": "stream",
          "text": [
            "Shape of the dataset: (29000, 3)\n",
            "First few rows of the dataset:\n",
            "      id  emotion                                             pixels\n",
            "0   9415        6  29 16 18 18 18 20 19 18 17 17 17 18 17 18 17 1...\n",
            "1  19109        3  126 154 167 181 188 194 195 194 196 195 198 20...\n",
            "2  21523        2  169 220 218 208 184 144 72 73 143 183 203 210 ...\n",
            "3   2076        3  60 64 72 80 83 83 80 82 89 106 114 125 125 127...\n",
            "4  13957        3  174 148 121 97 78 70 62 57 54 54 42 58 40 64 1...\n",
            "Missing values in the dataset:\n",
            "id         0\n",
            "emotion    0\n",
            "pixels     0\n",
            "dtype: int64\n"
          ]
        }
      ],
      "source": [
        "print(\"Shape of the dataset:\", data.shape)\n",
        "\n",
        "print(\"First few rows of the dataset:\")\n",
        "print(data.head())\n",
        "\n",
        "print(\"Missing values in the dataset:\")\n",
        "print(data.isnull().sum())"
      ]
    },
    {
      "cell_type": "markdown",
      "metadata": {
        "id": "vnxhU8BqGmEs"
      },
      "source": [
        "2. Seperate the target and predictor"
      ]
    },
    {
      "cell_type": "code",
      "execution_count": null,
      "metadata": {
        "id": "K9gPBbdvL4Rd"
      },
      "outputs": [],
      "source": [
        "X = data['pixels'].copy()\n",
        "y = data['emotion'].copy()\n",
        "id = data['id'].copy()"
      ]
    },
    {
      "cell_type": "markdown",
      "metadata": {
        "id": "1ZFm_MjY6hOR"
      },
      "source": [
        "3. Create copy of the data for DNN"
      ]
    },
    {
      "cell_type": "code",
      "execution_count": null,
      "metadata": {
        "id": "1MHpQkRf6lfb"
      },
      "outputs": [],
      "source": [
        "X_dnn_copy = X.copy()\n",
        "y_dnn_copy = y.copy()\n",
        "id_dnn_copy = id.copy()"
      ]
    },
    {
      "cell_type": "markdown",
      "metadata": {
        "id": "j8QAG5O_LJSK"
      },
      "source": [
        "3. Create a copy of the data for ResNet50"
      ]
    },
    {
      "cell_type": "code",
      "execution_count": null,
      "metadata": {
        "id": "k_zmzrp_aDwv"
      },
      "outputs": [],
      "source": [
        "X_cnn_copy = X.copy()\n",
        "y_cnn_copy = y.copy()\n",
        "id_cnn_copy = id.copy()"
      ]
    },
    {
      "cell_type": "markdown",
      "metadata": {
        "id": "8kg_hvST2S9L"
      },
      "source": [
        "4. Exploring class distributions"
      ]
    },
    {
      "cell_type": "code",
      "execution_count": null,
      "metadata": {
        "colab": {
          "base_uri": "https://localhost:8080/",
          "height": 605
        },
        "id": "Lyor_hOsLOoo",
        "outputId": "e4cbca9c-5d03-4568-b5a6-bd3f45689a76"
      },
      "outputs": [
        {
          "name": "stdout",
          "output_type": "stream",
          "text": [
            "Emotion Distribution:\n",
            "emotion\n",
            "0    3993\n",
            "1     440\n",
            "2    4138\n",
            "3    7289\n",
            "4    4942\n",
            "5    3206\n",
            "6    4992\n",
            "Name: count, dtype: int64\n"
          ]
        },
        {
          "data": {
            "image/png": "[encoded data removed]",
            "text/plain": [
              "<Figure size 800x400 with 1 Axes>"
            ]
          },
          "metadata": {},
          "output_type": "display_data"
        }
      ],
      "source": [
        "class_distribution = y.value_counts().sort_index()\n",
        "print(\"Emotion Distribution:\")\n",
        "print(class_distribution)\n",
        "\n",
        "plt.figure(figsize=(8, 4))\n",
        "class_distribution.plot(kind='barh')\n",
        "plt.title('Emotion Distribution')\n",
        "plt.xlabel('Emotion')\n",
        "plt.ylabel('Frequency')\n",
        "plt.xticks(rotation=45)\n",
        "plt.show()"
      ]
    },
    {
      "cell_type": "markdown",
      "metadata": {
        "id": "o4cT7PET2tnp"
      },
      "source": [
        "5. Visualising our data"
      ]
    },
    {
      "cell_type": "code",
      "execution_count": null,
      "metadata": {
        "id": "owtm6k312xIT"
      },
      "outputs": [],
      "source": [
        "data['pixels'] = data['pixels'].apply(lambda x: np.fromstring(x, dtype=int, sep=' ').reshape(48, 48) / 255.0)\n",
        "X = np.stack(data['pixels'].values).reshape(-1, 48, 48, 1)"
      ]
    },
    {
      "cell_type": "code",
      "execution_count": null,
      "metadata": {
        "colab": {
          "base_uri": "https://localhost:8080/",
          "height": 406
        },
        "id": "hrOPgihW2nH2",
        "outputId": "d9bfe2dc-d087-4280-b33a-4da66b384bbd"
      },
      "outputs": [
        {
          "data": {
            "image/png": "[encoded data removed]",
            "text/plain": [
              "<Figure size 640x480 with 1 Axes>"
            ]
          },
          "metadata": {},
          "output_type": "display_data"
        }
      ],
      "source": [
        "image = data['pixels'].iloc[0]\n",
        "plt.imshow(image, cmap='gray')\n",
        "plt.axis('off')\n",
        "plt.show()"
      ]
    },
    {
      "cell_type": "markdown",
      "metadata": {
        "id": "R9PmtGOw2bkQ"
      },
      "source": [
        "✅ **Methodology and pre-processing**"
      ]
    },
    {
      "cell_type": "markdown",
      "metadata": {
        "id": "z-Icj8wI2eYp"
      },
      "source": [
        "The above exloratory analysis shows a class imbalance. How can we remedy this?\n",
        "\n",
        "1. Stratification is a technique used to ensure that train and test datasets have the same proportions of class labels as the original dataset, but this wont deal with an undersample of one class. \n",
        "\n",
        "2. Increase class 1, such as through use of SMOTE, or, by assigning higher weights to class one when training the final model.\n",
        "\n",
        "Next, we need to consider our target variable. We can either:\n",
        "\n",
        "1. One hot encode the Labels as it is multi-class classification, as each instance can only belong to one class, or;\n",
        "\n",
        "2. We can use sparse labels, which is more efficient for computational time, but we need to specify the correct loss function.\n",
        "\n",
        "To start with, we will apply standard data transformations, with the awareness we will liely need differen transformations dependent on the model. This gives us a base understanding to start."
      ]
    },
    {
      "cell_type": "markdown",
      "metadata": {
        "id": "zS-HXgdM3PqU"
      },
      "source": [
        "1. Check shape of data"
      ]
    },
    {
      "cell_type": "markdown",
      "metadata": {},
      "source": []
    },
    {
      "cell_type": "code",
      "execution_count": null,
      "metadata": {
        "colab": {
          "base_uri": "https://localhost:8080/"
        },
        "id": "7kUWp_U8PwWv",
        "outputId": "ee4642c1-972b-4e5d-b769-9ef509de2f3d"
      },
      "outputs": [
        {
          "data": {
            "text/plain": [
              "(29000, 48, 48, 1)"
            ]
          },
          "execution_count": 12,
          "metadata": {},
          "output_type": "execute_result"
        }
      ],
      "source": [
        "X.shape"
      ]
    },
    {
      "cell_type": "markdown",
      "metadata": {
        "id": "4UaXkdsC34hT"
      },
      "source": [
        "2. Scale each channel individually and re-shape back to original shape (HUGO: We only have one channel as its not color images RGB, only black and white)"
      ]
    },
    {
      "cell_type": "code",
      "execution_count": null,
      "metadata": {
        "id": "bG4J0h6dPwW0"
      },
      "outputs": [],
      "source": [
        "scaler = StandardScaler()\n",
        "X_reshaped = X.reshape(-1, X.shape[-1])\n",
        "X_scaled_reshaped = scaler.fit_transform(X_reshaped)\n",
        "X = X_scaled_reshaped.reshape(X.shape)"
      ]
    },
    {
      "cell_type": "markdown",
      "metadata": {
        "id": "1UoG6GtF4CZZ"
      },
      "source": [
        "3. Split the data into train and vaidation set and stratify on y, to ensure evaluation fairness, so there is the same proportion of each class in the train and test set."
      ]
    },
    {
      "cell_type": "code",
      "execution_count": null,
      "metadata": {
        "id": "YA6sGd9hmQE3"
      },
      "outputs": [],
      "source": [
        "val_size = 0.2\n",
        "# Split the dataset into training and validation sets - stratify on y\n",
        "X_train, X_val, y_train, y_val = train_test_split(X, y, test_size=val_size, random_state=42, stratify=y)"
      ]
    },
    {
      "cell_type": "markdown",
      "metadata": {
        "id": "PmVtLHrA4NR3"
      },
      "source": [
        "4. Data Augmentation. The dataset only has one feature per pixel. Techniques such as data augmentation may be beneficial, to increase the size of the dataset. Data augmentation artificially increases the size of the training set by generating many realistic variants of each training instance. This reduces overfitting, making this a regularization technique. Simply adding white noise will not help; the modifications should be learnable.\n",
        "\n",
        "The below custom data augmentation transformations in this work have the following parameters:\n",
        "\n",
        "1.   Random rotation\n",
        "2.   Affine transformation\n",
        "3.   Crop\n",
        "4.   Horizontal flips\n",
        "\n",
        "These functions can be used in the DNN below."
      ]
    },
    {
      "cell_type": "code",
      "execution_count": null,
      "metadata": {
        "id": "SZsAEKN9kL_f"
      },
      "outputs": [],
      "source": [
        "def apply_affine_transformation(image, rotation=45):\n",
        "    \"\"\"Applies a rotation to the image.\"\"\"\n",
        "    return tf.keras.preprocessing.image.random_rotation(image, rg=rotation, row_axis=0, col_axis=1, channel_axis=2, fill_mode='nearest')\n",
        "\n",
        "def random_crop(image, crop_size=(20, 20)):\n",
        "    \"\"\"Randomly crops the image to a specified size.\"\"\"\n",
        "    if image.shape[0] < crop_size[0] or image.shape[1] < crop_size[1]:\n",
        "        raise ValueError(\"Crop size must be smaller than image size\")\n",
        "    start_x = np.random.randint(0, image.shape[1] - crop_size[1] + 1)\n",
        "    start_y = np.random.randint(0, image.shape[0] - crop_size[0] + 1)\n",
        "    cropped_image = image[start_y:start_y+crop_size[0], start_x:start_x+crop_size[1], :]\n",
        "    return tf.image.resize(cropped_image, [image.shape[0], image.shape[1]])\n",
        "\n",
        "def custom_augmentation_generator(image_data_generator, X_data, y_data, batch_size):\n",
        "    generator = image_data_generator.flow(X_data, y_data, batch_size=batch_size)\n",
        "    while True:\n",
        "        batch_x, batch_y = next(generator)\n",
        "        for i in range(batch_x.shape[0]):\n",
        "            if np.random.rand() < 0.5:\n",
        "                batch_x[i] = apply_affine_transformation(batch_x[i])\n",
        "            if np.random.rand() < 0.5:\n",
        "                batch_x[i] = random_crop(batch_x[i])\n",
        "        yield batch_x, batch_y\n",
        "\n",
        "\n",
        "batch_size = 30\n",
        "\n",
        "augmentation_params = dict(\n",
        "    rotation_range=45,\n",
        "    horizontal_flip=True,\n",
        "    fill_mode='nearest'\n",
        ")\n",
        "\n",
        "augmented_datagen = ImageDataGenerator(rescale=1./255, **augmentation_params)\n",
        "validation_datagen = ImageDataGenerator(rescale=1./255)\n",
        "custom_generator = custom_augmentation_generator(augmented_datagen, X_train, y_train, batch_size=20)\n",
        "validation_generator = validation_datagen.flow(X_val, y_val, batch_size=20)"
      ]
    },
    {
      "cell_type": "code",
      "execution_count": null,
      "metadata": {
        "colab": {
          "base_uri": "https://localhost:8080/",
          "height": 207
        },
        "id": "mQbNoDaGjtWr",
        "outputId": "8fcd5caf-a9ff-4162-fc0b-5e4e37a0ab7e"
      },
      "outputs": [
        {
          "data": {
            "image/png": "[encoded data removed]",
            "text/plain": [
              "<Figure size 1500x300 with 8 Axes>"
            ]
          },
          "metadata": {},
          "output_type": "display_data"
        }
      ],
      "source": [
        "augmented_images, _ = next(augmented_datagen.flow(X_train, y_train, batch_size=8))\n",
        "\n",
        "plt.figure(figsize=(15, 3))\n",
        "for i in range(len(augmented_images)):\n",
        "    plt.subplot(1, 8, i+1)\n",
        "    plt.imshow(augmented_images[i], cmap='gray' if augmented_images[i].shape[-1] == 1 else None)\n",
        "    plt.axis('off')\n",
        "plt.tight_layout()\n",
        "plt.show()"
      ]
    },
    {
      "cell_type": "markdown",
      "metadata": {
        "id": "KidGI2xz8xZ-"
      },
      "source": [
        "✅**Machine Learning model**\n",
        "\n",
        "Our first model will not use data augmentation. We will use the data as modelled above, and apply this to a Random Forest. Random Forests do not need Data Augmentation, due to the bootstrapping method which increases diversity. They are not sensitive to small transformations in the data like rotations or flips, unlike Convolutional Neural Networks (CNNs). The choice of a Random Forest as our baseline model is due to the models powerful ensemble learning method, combine multiple decision trees. They are also capable of multiclass classification. However, they are not the best models for image data, CNN's are preferred."
      ]
    },
    {
      "cell_type": "markdown",
      "metadata": {
        "id": "Nu-gcxqSv6iP"
      },
      "source": [
        "1. Re-shape the data back to 2D array"
      ]
    },
    {
      "cell_type": "code",
      "execution_count": null,
      "metadata": {
        "id": "zZ644tAatrpl"
      },
      "outputs": [],
      "source": [
        "X_train_reshaped = X_train.reshape(X_train.shape[0], -1)\n",
        "X_val_reshaped = X_val.reshape(X_val.shape[0], -1)"
      ]
    },
    {
      "cell_type": "markdown",
      "metadata": {
        "id": "OSeqTgRWv8xm"
      },
      "source": [
        "2. Create the model, 50 decision tree estimators"
      ]
    },
    {
      "cell_type": "code",
      "execution_count": null,
      "metadata": {
        "id": "LWtffXdYtbPH"
      },
      "outputs": [],
      "source": [
        "rf_clf = RandomForestClassifier(n_estimators=50, random_state=42)"
      ]
    },
    {
      "cell_type": "markdown",
      "metadata": {
        "id": "m2vjNQs1v_kI"
      },
      "source": [
        "4. Fit the model"
      ]
    },
    {
      "cell_type": "code",
      "execution_count": null,
      "metadata": {
        "colab": {
          "base_uri": "https://localhost:8080/",
          "height": 75
        },
        "id": "Szc7KXEouUNG",
        "outputId": "e211122a-6c7d-402f-89c6-d031bc306aa7"
      },
      "outputs": [
        {
          "data": {
            "text/html": [
              "<style>#sk-container-id-1 {color: black;background-color: white;}#sk-container-id-1 pre{padding: 0;}#sk-container-id-1 div.sk-toggleable {background-color: white;}#sk-container-id-1 label.sk-toggleable__label {cursor: pointer;display: block;width: 100%;margin-bottom: 0;padding: 0.3em;box-sizing: border-box;text-align: center;}#sk-container-id-1 label.sk-toggleable__label-arrow:before {content: \"▸\";float: left;margin-right: 0.25em;color: #696969;}#sk-container-id-1 label.sk-toggleable__label-arrow:hover:before {color: black;}#sk-container-id-1 div.sk-estimator:hover label.sk-toggleable__label-arrow:before {color: black;}#sk-container-id-1 div.sk-toggleable__content {max-height: 0;max-width: 0;overflow: hidden;text-align: left;background-color: #f0f8ff;}#sk-container-id-1 div.sk-toggleable__content pre {margin: 0.2em;color: black;border-radius: 0.25em;background-color: #f0f8ff;}#sk-container-id-1 input.sk-toggleable__control:checked~div.sk-toggleable__content {max-height: 200px;max-width: 100%;overflow: auto;}#sk-container-id-1 input.sk-toggleable__control:checked~label.sk-toggleable__label-arrow:before {content: \"▾\";}#sk-container-id-1 div.sk-estimator input.sk-toggleable__control:checked~label.sk-toggleable__label {background-color: #d4ebff;}#sk-container-id-1 div.sk-label input.sk-toggleable__control:checked~label.sk-toggleable__label {background-color: #d4ebff;}#sk-container-id-1 input.sk-hidden--visually {border: 0;clip: rect(1px 1px 1px 1px);clip: rect(1px, 1px, 1px, 1px);height: 1px;margin: -1px;overflow: hidden;padding: 0;position: absolute;width: 1px;}#sk-container-id-1 div.sk-estimator {font-family: monospace;background-color: #f0f8ff;border: 1px dotted black;border-radius: 0.25em;box-sizing: border-box;margin-bottom: 0.5em;}#sk-container-id-1 div.sk-estimator:hover {background-color: #d4ebff;}#sk-container-id-1 div.sk-parallel-item::after {content: \"\";width: 100%;border-bottom: 1px solid gray;flex-grow: 1;}#sk-container-id-1 div.sk-label:hover label.sk-toggleable__label {background-color: #d4ebff;}#sk-container-id-1 div.sk-serial::before {content: \"\";position: absolute;border-left: 1px solid gray;box-sizing: border-box;top: 0;bottom: 0;left: 50%;z-index: 0;}#sk-container-id-1 div.sk-serial {display: flex;flex-direction: column;align-items: center;background-color: white;padding-right: 0.2em;padding-left: 0.2em;position: relative;}#sk-container-id-1 div.sk-item {position: relative;z-index: 1;}#sk-container-id-1 div.sk-parallel {display: flex;align-items: stretch;justify-content: center;background-color: white;position: relative;}#sk-container-id-1 div.sk-item::before, #sk-container-id-1 div.sk-parallel-item::before {content: \"\";position: absolute;border-left: 1px solid gray;box-sizing: border-box;top: 0;bottom: 0;left: 50%;z-index: -1;}#sk-container-id-1 div.sk-parallel-item {display: flex;flex-direction: column;z-index: 1;position: relative;background-color: white;}#sk-container-id-1 div.sk-parallel-item:first-child::after {align-self: flex-end;width: 50%;}#sk-container-id-1 div.sk-parallel-item:last-child::after {align-self: flex-start;width: 50%;}#sk-container-id-1 div.sk-parallel-item:only-child::after {width: 0;}#sk-container-id-1 div.sk-dashed-wrapped {border: 1px dashed gray;margin: 0 0.4em 0.5em 0.4em;box-sizing: border-box;padding-bottom: 0.4em;background-color: white;}#sk-container-id-1 div.sk-label label {font-family: monospace;font-weight: bold;display: inline-block;line-height: 1.2em;}#sk-container-id-1 div.sk-label-container {text-align: center;}#sk-container-id-1 div.sk-container {/* jupyter's `normalize.less` sets `[hidden] { display: none; }` but bootstrap.min.css set `[hidden] { display: none !important; }` so we also need the `!important` here to be able to override the default hidden behavior on the sphinx rendered scikit-learn.org. See: https://github.com/scikit-learn/scikit-learn/issues/21755 */display: inline-block !important;position: relative;}#sk-container-id-1 div.sk-text-repr-fallback {display: none;}</style><div id=\"sk-container-id-1\" class=\"sk-top-container\"><div class=\"sk-text-repr-fallback\"><pre>RandomForestClassifier(n_estimators=50, random_state=42)</pre><b>In a Jupyter environment, please rerun this cell to show the HTML representation or trust the notebook. <br />On GitHub, the HTML representation is unable to render, please try loading this page with nbviewer.org.</b></div><div class=\"sk-container\" hidden><div class=\"sk-item\"><div class=\"sk-estimator sk-toggleable\"><input class=\"sk-toggleable__control sk-hidden--visually\" id=\"sk-estimator-id-1\" type=\"checkbox\" checked><label for=\"sk-estimator-id-1\" class=\"sk-toggleable__label sk-toggleable__label-arrow\">RandomForestClassifier</label><div class=\"sk-toggleable__content\"><pre>RandomForestClassifier(n_estimators=50, random_state=42)</pre></div></div></div></div></div>"
            ],
            "text/plain": [
              "RandomForestClassifier(n_estimators=50, random_state=42)"
            ]
          },
          "execution_count": 21,
          "metadata": {},
          "output_type": "execute_result"
        }
      ],
      "source": [
        "rf_clf.fit(X_train_reshaped, y_train)"
      ]
    },
    {
      "cell_type": "markdown",
      "metadata": {
        "id": "k_EKyfc5wD76"
      },
      "source": [
        "5. Predict on the validation set"
      ]
    },
    {
      "cell_type": "code",
      "execution_count": null,
      "metadata": {
        "id": "G-zf_fWAuW3A"
      },
      "outputs": [],
      "source": [
        "y_pred = rf_clf.predict(X_val_reshaped)"
      ]
    },
    {
      "cell_type": "markdown",
      "metadata": {
        "id": "I65ciCyywHQk"
      },
      "source": [
        "6. Print the accuracy scores"
      ]
    },
    {
      "cell_type": "code",
      "execution_count": null,
      "metadata": {
        "colab": {
          "base_uri": "https://localhost:8080/"
        },
        "id": "MI_2uOcQuZFS",
        "outputId": "89a7d693-a722-45fb-b695-4b62e09e0ad8"
      },
      "outputs": [
        {
          "name": "stdout",
          "output_type": "stream",
          "text": [
            "Accuracy: 0.43\n",
            "Classification report:\n",
            "              precision    recall  f1-score   support\n",
            "\n",
            "           0       0.37      0.21      0.27       799\n",
            "           1       1.00      0.27      0.43        88\n",
            "           2       0.38      0.25      0.30       828\n",
            "           3       0.44      0.74      0.55      1458\n",
            "           4       0.33      0.33      0.33       988\n",
            "           5       0.67      0.55      0.60       641\n",
            "           6       0.42      0.34      0.38       998\n",
            "\n",
            "    accuracy                           0.43      5800\n",
            "   macro avg       0.52      0.38      0.41      5800\n",
            "weighted avg       0.43      0.43      0.41      5800\n",
            "\n"
          ]
        }
      ],
      "source": [
        "print(f\"Accuracy: {accuracy_score(y_val, y_pred):.2f}\")\n",
        "print(\"Classification report:\")\n",
        "print(classification_report(y_val, y_pred))"
      ]
    },
    {
      "cell_type": "markdown",
      "metadata": {
        "id": "j97grW9Vu8mv"
      },
      "source": [
        "Accuracy of 43% gives us a baseline of what to expect. Here we can see the problem with the class 1 imbalance. As class 1 has significantly fewer samples, the model may be careful about predicting an instance as class 1, leading to high precision but low recall."
      ]
    },
    {
      "cell_type": "markdown",
      "metadata": {
        "id": "XQPmBhsMkHxK"
      },
      "source": [
        "✅ **Deep Neural Network**\n",
        "\n",
        "First, we will try a default model which does not usually need much hyperparameter tuning. We will use a fresh copy of our data, to apply the correct processing.\n",
        "\n",
        "**Default DNN configuration p.613 SkitLearn**\n",
        "\n",
        "| Hyperparameter         | Default value                                 |\n",
        "|------------------------|-----------------------------------------------|\n",
        "| Kernel initializer     | He initialization                             |\n",
        "| Activation function    | ReLU if shallow; Swish if deep                |\n",
        "| Normalization          | one if shallow; batch norm if deep            |\n",
        "| Regularization         | Early stopping; weight decay if needed        |\n",
        "| Optimizer              | Nesterov accelerated gradients or AdamW       |\n",
        "| Learning rate schedule | Performance scheduling or 1cycle              |\n",
        "\n",
        "Following the table above, we have use He initialization and Elu as the optimiser. Elu was chosen over ReLu as it tends to converge faster and produce better results. We have also used a one cycle scheduler. We have chosen the number of units to start higher, and then decrease, with the idea being the network should learn to abstract the input data into increasingly concise and relevant representations as it moves toward the output layer. Due to the size of our data, we are starting with a reasonably large amount of units."
      ]
    },
    {
      "cell_type": "code",
      "execution_count": null,
      "metadata": {
        "colab": {
          "base_uri": "https://localhost:8080/"
        },
        "id": "XsZkWBR661zl",
        "outputId": "eb44a2de-d026-4af3-c8fa-0eb8e866f7c7"
      },
      "outputs": [
        {
          "data": {
            "text/plain": [
              "0         9415\n",
              "1        19109\n",
              "2        21523\n",
              "3         2076\n",
              "4        13957\n",
              "         ...  \n",
              "28995     7926\n",
              "28996    21200\n",
              "28997     1097\n",
              "28998     4186\n",
              "28999     8701\n",
              "Name: id, Length: 29000, dtype: int64"
            ]
          },
          "execution_count": 24,
          "metadata": {},
          "output_type": "execute_result"
        }
      ],
      "source": [
        "X_dnn_copy\n",
        "y_dnn_copy\n",
        "id_dnn_copy"
      ]
    },
    {
      "cell_type": "markdown",
      "metadata": {
        "id": "i7N_nC-H7DxZ"
      },
      "source": [
        "1. Convert pixels from a string to 2D array with normalisation"
      ]
    },
    {
      "cell_type": "code",
      "execution_count": null,
      "metadata": {
        "id": "50d3cPeeBEjt"
      },
      "outputs": [],
      "source": [
        "X_dnn_copy = np.array([np.fromstring(img, dtype=np.float32, sep=' ') for img in X_dnn_copy]) / 255.0\n",
        "X_dnn_copy = X_dnn_copy.reshape(-1, 48, 48, 1)"
      ]
    },
    {
      "cell_type": "markdown",
      "metadata": {
        "id": "7IG-eCRi-39y"
      },
      "source": [
        "2. Scale the data in case normalising it is not enough - if we had more time we would have considered whether scaling is neccessary. "
      ]
    },
    {
      "cell_type": "code",
      "execution_count": null,
      "metadata": {
        "id": "CEGXw-ck-PJs"
      },
      "outputs": [],
      "source": [
        "num_samples, height, width, channels = X_dnn_copy.shape\n",
        "X_dnn_reshaped = X_dnn_copy.reshape(num_samples, -1)"
      ]
    },
    {
      "cell_type": "code",
      "execution_count": null,
      "metadata": {
        "id": "aXfSTBXABwL0"
      },
      "outputs": [],
      "source": [
        "scaler = StandardScaler()\n",
        "X_dnn_scaled = scaler.fit_transform(X_dnn_reshaped)"
      ]
    },
    {
      "cell_type": "markdown",
      "metadata": {
        "id": "0tLcEYSl7iy9"
      },
      "source": [
        "3. Create a 4D array"
      ]
    },
    {
      "cell_type": "code",
      "execution_count": null,
      "metadata": {
        "id": "6MyP14wO7lu1"
      },
      "outputs": [],
      "source": [
        "X_dnn_copy = X_dnn_scaled.reshape(num_samples, height, width, channels)"
      ]
    },
    {
      "cell_type": "markdown",
      "metadata": {
        "id": "RG1HDU-T_EBC"
      },
      "source": [
        "4. Train and val set"
      ]
    },
    {
      "cell_type": "code",
      "execution_count": null,
      "metadata": {
        "id": "5w0JMcV88Rom"
      },
      "outputs": [],
      "source": [
        "val_size = 0.2\n",
        "X_train, X_val, y_train, y_val = train_test_split(X, y, test_size=val_size, random_state=42, stratify=y)"
      ]
    },
    {
      "cell_type": "markdown",
      "metadata": {
        "id": "xUgGfDPo7u0h"
      },
      "source": [
        "5. Create a class for the augmented batch norm model and a One Cycle Scheduler to adjust the learning rate\n",
        "\n",
        "---\n",
        "\n"
      ]
    },
    {
      "cell_type": "code",
      "execution_count": null,
      "metadata": {
        "colab": {
          "base_uri": "https://localhost:8080/"
        },
        "id": "88RWjXvPKajh",
        "outputId": "74a750c4-b798-4071-fedb-ef59d921db22"
      },
      "outputs": [
        {
          "name": "stdout",
          "output_type": "stream",
          "text": [
            "Epoch 1/100\n",
            "357/357 [==============================] - 14s 30ms/step - loss: 8.0057 - accuracy: 0.2360 - val_loss: 11.0649 - val_accuracy: 0.1681\n",
            "Epoch 2/100\n",
            "357/357 [==============================] - 10s 28ms/step - loss: 11.1824 - accuracy: 0.2546 - val_loss: 14.1953 - val_accuracy: 0.1779\n",
            "Epoch 3/100\n",
            "357/357 [==============================] - 10s 28ms/step - loss: 12.1490 - accuracy: 0.2682 - val_loss: 10.8601 - val_accuracy: 0.2266\n",
            "Epoch 4/100\n",
            "357/357 [==============================] - 10s 28ms/step - loss: 11.6631 - accuracy: 0.2822 - val_loss: 8.9867 - val_accuracy: 0.2866\n",
            "Epoch 5/100\n",
            "357/357 [==============================] - 10s 28ms/step - loss: 10.1873 - accuracy: 0.2849 - val_loss: 6.8031 - val_accuracy: 0.3229\n",
            "Epoch 6/100\n",
            "357/357 [==============================] - 10s 28ms/step - loss: 7.1604 - accuracy: 0.3057 - val_loss: 4.1739 - val_accuracy: 0.3424\n",
            "Epoch 7/100\n",
            "357/357 [==============================] - 10s 28ms/step - loss: 2.9930 - accuracy: 0.3295 - val_loss: 1.6380 - val_accuracy: 0.3610\n",
            "Epoch 8/100\n",
            "357/357 [==============================] - 10s 28ms/step - loss: 1.5715 - accuracy: 0.3924 - val_loss: 1.6170 - val_accuracy: 0.3676\n",
            "Epoch 9/100\n",
            "357/357 [==============================] - 10s 28ms/step - loss: 1.5455 - accuracy: 0.4014 - val_loss: 1.6167 - val_accuracy: 0.3697\n",
            "Epoch 10/100\n",
            "357/357 [==============================] - 10s 28ms/step - loss: 1.5434 - accuracy: 0.4072 - val_loss: 1.6219 - val_accuracy: 0.3710\n",
            "Epoch 11/100\n",
            "357/357 [==============================] - 10s 28ms/step - loss: 1.5387 - accuracy: 0.4051 - val_loss: 1.6197 - val_accuracy: 0.3702\n",
            "Epoch 12/100\n",
            "357/357 [==============================] - 10s 28ms/step - loss: 1.5386 - accuracy: 0.4092 - val_loss: 1.6338 - val_accuracy: 0.3705\n",
            "Epoch 13/100\n",
            "357/357 [==============================] - 10s 28ms/step - loss: 1.5373 - accuracy: 0.4061 - val_loss: 1.6444 - val_accuracy: 0.3697\n",
            "Epoch 14/100\n",
            "357/357 [==============================] - 10s 28ms/step - loss: 1.5387 - accuracy: 0.4067 - val_loss: 1.6480 - val_accuracy: 0.3550\n",
            "Epoch 15/100\n",
            "357/357 [==============================] - 10s 28ms/step - loss: 1.5411 - accuracy: 0.4063 - val_loss: 1.6590 - val_accuracy: 0.3591\n",
            "Epoch 16/100\n",
            "357/357 [==============================] - 10s 29ms/step - loss: 1.5447 - accuracy: 0.4050 - val_loss: 1.6370 - val_accuracy: 0.3724\n",
            "Epoch 17/100\n",
            "357/357 [==============================] - 10s 28ms/step - loss: 1.5409 - accuracy: 0.4098 - val_loss: 1.6635 - val_accuracy: 0.3628\n",
            "Epoch 18/100\n",
            "357/357 [==============================] - 10s 28ms/step - loss: 1.5515 - accuracy: 0.4069 - val_loss: 1.6853 - val_accuracy: 0.3486\n",
            "Epoch 19/100\n",
            "357/357 [==============================] - ETA: 0s - loss: 1.5573 - accuracy: 0.4037Restoring model weights from the end of the best epoch: 9.\n",
            "357/357 [==============================] - 10s 29ms/step - loss: 1.5573 - accuracy: 0.4037 - val_loss: 1.6923 - val_accuracy: 0.3390\n",
            "Epoch 19: early stopping\n"
          ]
        }
      ],
      "source": [
        "class AugmentedBatchNormModel_4(keras.Model):\n",
        "    def __init__(self, input_shape, num_classes, activation=\"elu\", dropout_rate=0.5, initializer='he_uniform', **kwargs):\n",
        "        super().__init__(**kwargs)\n",
        "\n",
        "        def get_initializer():\n",
        "            if initializer == 'he_uniform':\n",
        "                return keras.initializers.he_uniform()\n",
        "            elif initializer == 'glorot_uniform':\n",
        "                return keras.initializers.glorot_uniform()\n",
        "\n",
        "        self.dense1 = keras.layers.Dense(500, use_bias=False, kernel_initializer=get_initializer())\n",
        "        self.bn1 = keras.layers.BatchNormalization()\n",
        "        self.act1 = keras.layers.Activation(activation)\n",
        "        self.dropout1 = keras.layers.Dropout(dropout_rate)\n",
        "        self.dense2 = keras.layers.Dense(300, use_bias=False, kernel_initializer=get_initializer())\n",
        "        self.bn2 = keras.layers.BatchNormalization()\n",
        "        self.act2 = keras.layers.Activation(activation)\n",
        "        self.dropout2 = keras.layers.Dropout(dropout_rate)\n",
        "        self.dense3 = keras.layers.Dense(200, use_bias=False, kernel_initializer=get_initializer())\n",
        "        self.bn3 = keras.layers.BatchNormalization()\n",
        "        self.act3 = keras.layers.Activation(activation)\n",
        "        self.flatten = keras.layers.Flatten()\n",
        "        self.output_layer = keras.layers.Dense(num_classes, activation='softmax', kernel_initializer=get_initializer())\n",
        "\n",
        "    def call(self, inputs, training=False):\n",
        "        x = self.dense1(inputs)\n",
        "        x = self.bn1(x, training=training)\n",
        "        x = self.act1(x)\n",
        "        x = self.dropout1(x, training=training)\n",
        "        x = self.dense2(x)\n",
        "        x = self.bn2(x, training=training)\n",
        "        x = self.act2(x)\n",
        "        x = self.dropout2(x, training=training)\n",
        "        x = self.flatten(x)\n",
        "        return self.output_layer(x)\n",
        "\n",
        "K = keras.backend\n",
        "\n",
        "class OneCycleScheduler(keras.callbacks.Callback):\n",
        "    def __init__(self, iterations, max_rate, start_rate=None,\n",
        "                 last_iterations=None, last_rate=None):\n",
        "        self.iterations = iterations\n",
        "        self.max_rate = max_rate\n",
        "        self.start_rate = start_rate or max_rate / 10\n",
        "        self.last_iterations = last_iterations or iterations // 10 + 1\n",
        "        self.half_iteration = (iterations - self.last_iterations) // 2\n",
        "        self.last_rate = last_rate or self.start_rate / 1000\n",
        "        self.iteration = 0\n",
        "    def _interpolate(self, iter1, iter2, rate1, rate2):\n",
        "        return ((rate2 - rate1) * (self.iteration - iter1)\n",
        "                / (iter2 - iter1) + rate1)\n",
        "    def on_batch_begin(self, batch, logs):\n",
        "        if self.iteration < self.half_iteration:\n",
        "            rate = self._interpolate(0, self.half_iteration, self.start_rate, self.max_rate)\n",
        "        elif self.iteration < 2 * self.half_iteration:\n",
        "            rate = self._interpolate(self.half_iteration, 2 * self.half_iteration,\n",
        "                                     self.max_rate, self.start_rate)\n",
        "        else:\n",
        "            rate = self._interpolate(2 * self.half_iteration, self.iterations,\n",
        "                                     self.start_rate, self.last_rate)\n",
        "        self.iteration += 1\n",
        "        K.set_value(self.model.optimizer.learning_rate, rate)\n",
        "\n",
        "input_shape = X_train.shape[1:]\n",
        "num_classes = np.unique(y_train).size\n",
        "\n",
        "model = AugmentedBatchNormModel_4(input_shape=input_shape, num_classes=num_classes, activation=\"elu\", dropout_rate=0.5, initializer='he_uniform')\n",
        "model.compile(optimizer='nadam', loss='sparse_categorical_crossentropy', metrics=['accuracy'])\n",
        "\n",
        "batch_size = 65\n",
        "epochs = 100\n",
        "\n",
        "num_samples = X_train.shape[0]\n",
        "total_iterations = (num_samples / batch_size) * epochs\n",
        "max_rate = 0.005\n",
        "start_rate = max_rate / 10\n",
        "last_rate = start_rate / 1000\n",
        "one_cycle_scheduler = OneCycleScheduler(iterations=total_iterations, max_rate=max_rate, start_rate=start_rate, last_iterations=total_iterations//10, last_rate=last_rate)\n",
        "\n",
        "early_stopping = EarlyStopping(monitor='val_loss', patience=10, verbose=1, restore_best_weights=True)\n",
        "history = model.fit(X_train, y_train, epochs=epochs, batch_size=batch_size, validation_data=(X_val, y_val), callbacks=[one_cycle_scheduler, early_stopping])"
      ]
    },
    {
      "cell_type": "code",
      "execution_count": null,
      "metadata": {
        "colab": {
          "base_uri": "https://localhost:8080/"
        },
        "id": "JKf27orgjVGl",
        "outputId": "7c7606b8-4de8-4d0f-d895-5698ef3de2b9"
      },
      "outputs": [
        {
          "name": "stdout",
          "output_type": "stream",
          "text": [
            "Mean Validation Accuracy: 0.33\n",
            "Standard Deviation in Validation Accuracy: 0.06\n"
          ]
        }
      ],
      "source": [
        "val_accuracies = history.history['val_accuracy']\n",
        "mean_val_accuracy = np.mean(val_accuracies)\n",
        "std_val_accuracy = np.std(val_accuracies)\n",
        "\n",
        "print(f\"Mean Validation Accuracy: {mean_val_accuracy:.2f}\")\n",
        "print(f\"Standard Deviation in Validation Accuracy: {std_val_accuracy:.2f}\")"
      ]
    },
    {
      "cell_type": "markdown",
      "metadata": {
        "id": "nPEgU65Nzoux"
      },
      "source": [
        "This model actually performed worse than the Random Forest, which was not to be expected. In hidsight, we may have tried Swish, as the model is considered a DNN, and this activation function may perform better on this task. However, ideally we will explore more hyperperameters, as we have not done so yet."
      ]
    },
    {
      "cell_type": "markdown",
      "metadata": {
        "id": "O5G7XYMewMZh"
      },
      "source": [
        "✅ **Deep Neural Network: random search**\n",
        "\n",
        "The next model has the same architecture as the above, in terms of layers, however, we perform a random search to consider what hyperameters work best; a glorot_uniform initializer with relu or elu activation funtions, or a He initialisor with sigmoid or tahn. This model is not yet considering overfitting, as the aim here is to just get an idea of what activation and initialisers may perform best with this data set. However, Batch Normalisation may help with overfitting to the extent it behaves like a regualarizer.\n",
        "\n",
        "The size of the neurons have been set considering the size of the dataset, and we can look at further tuning this with the next model. To reduce training computationality, the epochs for the random search have been reduced to 20, and the random search also to 20 configurations. Before we applied a Random Search, we did want to consider a Grid Search, but this took a lot of resources that we were likely to need later for the ResNet model.\n",
        "\n",
        "We have also applied a learning rate scheduler's to optimize the training process by making the learning rate dynamic, adapting to the training process's state to balance the speed of convergence with the need to find a good generalizing solution."
      ]
    },
    {
      "cell_type": "markdown",
      "metadata": {
        "id": "8Q-1XKrVDhIq"
      },
      "source": [
        "1. Creating model class"
      ]
    },
    {
      "cell_type": "code",
      "execution_count": null,
      "metadata": {
        "id": "jpVF1iH0UiOU"
      },
      "outputs": [],
      "source": [
        "class BatchNormModel(keras.Model):\n",
        "    def __init__(self, input_shape, num_classes, units1, units2, units3, activation=\"relu\", dropout_rate=0.5, initializer='glorot_uniform', **kwargs):\n",
        "        super().__init__(**kwargs)\n",
        "\n",
        "        def get_initializer():\n",
        "            if initializer == 'he_uniform':\n",
        "                return keras.initializers.he_uniform()\n",
        "            elif initializer == 'glorot_uniform':\n",
        "                return keras.initializers.glorot_uniform()\n",
        "\n",
        "        self.dense1 = keras.layers.Dense(units1, use_bias=False, kernel_initializer=get_initializer())\n",
        "        self.bn1 = keras.layers.BatchNormalization()\n",
        "        self.act1 = keras.layers.Activation(activation)\n",
        "        self.dropout1 = keras.layers.Dropout(dropout_rate)\n",
        "        self.dense2 = keras.layers.Dense(units2, use_bias=False, kernel_initializer=get_initializer())\n",
        "        self.bn2 = keras.layers.BatchNormalization()\n",
        "        self.act2 = keras.layers.Activation(activation)\n",
        "        self.dropout2 = keras.layers.Dropout(dropout_rate)\n",
        "        self.dense3 = keras.layers.Dense(units3, use_bias=False, kernel_initializer=get_initializer())\n",
        "        self.bn3 = keras.layers.BatchNormalization()\n",
        "        self.act3 = keras.layers.Activation(activation)\n",
        "        self.flatten = keras.layers.Flatten()\n",
        "        self.output_layer = keras.layers.Dense(num_classes, activation='softmax', kernel_initializer=get_initializer())\n",
        "\n",
        "    def call(self, inputs, training=False):\n",
        "        x = self.dense1(inputs)\n",
        "        x = self.bn1(x, training=training)\n",
        "        x = self.act1(x)\n",
        "        x = self.dropout1(x, training=training)\n",
        "        x = self.dense2(x)\n",
        "        x = self.bn2(x, training=training)\n",
        "        x = self.act2(x)\n",
        "        x = self.dropout2(x, training=training)\n",
        "        x = self.dense3(x)\n",
        "        x = self.bn3(x, training=training)\n",
        "        x = self.act3(x)\n",
        "        x = self.flatten(x)\n",
        "        return self.output_layer(x)\n"
      ]
    },
    {
      "cell_type": "markdown",
      "metadata": {
        "id": "2BDHghN1DYek"
      },
      "source": [
        "2. Learning Rate Scheduler"
      ]
    },
    {
      "cell_type": "code",
      "execution_count": null,
      "metadata": {
        "id": "PIfYoviGrHaX"
      },
      "outputs": [],
      "source": [
        "class WarmUpExponentialDecaySchedule(tf.keras.optimizers.schedules.LearningRateSchedule):\n",
        "    def __init__(self, initial_learning_rate, decay_steps, decay_rate, warmup_steps):\n",
        "        super(WarmUpExponentialDecaySchedule, self).__init__()\n",
        "\n",
        "        self.initial_learning_rate = tf.cast(initial_learning_rate, tf.float32)\n",
        "        self.decay_steps = decay_steps\n",
        "        self.decay_rate = tf.cast(decay_rate, tf.float32)\n",
        "        self.warmup_steps = warmup_steps\n",
        "\n",
        "    def __call__(self, step):\n",
        "        step_as_float = tf.cast(step, tf.float32)\n",
        "        warmup_steps_as_float = tf.cast(self.warmup_steps, tf.float32)\n",
        "        learning_rate = tf.cond(step < self.warmup_steps,\n",
        "                                lambda: self.initial_learning_rate * step_as_float / warmup_steps_as_float,\n",
        "                                lambda: self.initial_learning_rate * tf.math.pow(self.decay_rate,\n",
        "                                                                                 (step_as_float - warmup_steps_as_float) / tf.cast(self.decay_steps, tf.float32)))\n",
        "        return learning_rate\n",
        "\n",
        "    def get_config(self):\n",
        "        return {\n",
        "            \"initial_learning_rate\": self.initial_learning_rate,\n",
        "            \"decay_steps\": self.decay_steps,\n",
        "            \"decay_rate\": self.decay_rate,\n",
        "            \"warmup_steps\": self.warmup_steps,\n",
        "        }"
      ]
    },
    {
      "cell_type": "markdown",
      "metadata": {
        "id": "L07TibnkD_fm"
      },
      "source": [
        "3. Hyperameter tuning"
      ]
    },
    {
      "cell_type": "code",
      "execution_count": null,
      "metadata": {
        "id": "_8w5Pw80rNZX"
      },
      "outputs": [],
      "source": [
        "import random\n",
        "seed_value = 123\n",
        "tf.random.set_seed(seed_value)\n",
        "np.random.seed(seed_value)\n",
        "random.seed(seed_value)\n",
        "\n",
        "input_shape = X_train.shape[1:]\n",
        "num_classes = np.unique(y_train).size\n",
        "\n",
        "def model_builder_random(hp):\n",
        "    initializer_choice = hp.Choice('initializer', values=['he_uniform', 'glorot_uniform'])\n",
        "\n",
        "    initial_learning_rate = hp.Choice('initial_learning_rate', values=[1e-2, 1e-3, 1e-4])\n",
        "    warmup_epochs = hp.Int('warmup_epochs', 5, 10, step=5)\n",
        "    decay_rate = hp.Float('decay_rate', 0.1, 1.0, sampling='log')\n",
        "    total_epochs = 100\n",
        "\n",
        "    optimizer_choice = hp.Choice('optimizer', values=['adam', 'sgd'])\n",
        "    if initializer_choice == 'he_uniform':\n",
        "        activation_choice = hp.Choice('activation_he', values=['relu', 'elu'])\n",
        "    elif initializer_choice == 'glorot_uniform':\n",
        "        activation_choice = hp.Choice('activation_glorot', values=['sigmoid', 'tanh'])\n",
        "\n",
        "    model = BatchNormModel(input_shape=(784,), num_classes=num_classes, units1=500, units2=300, units3=200, activation=activation_choice, initializer=initializer_choice)\n",
        "    batch_size = 64\n",
        "    steps_per_epoch = len(X_train) // batch_size\n",
        "    lr_schedule = WarmUpExponentialDecaySchedule(initial_learning_rate, total_epochs * steps_per_epoch, decay_rate, warmup_epochs * steps_per_epoch)\n",
        "\n",
        "    if optimizer_choice == 'adam':\n",
        "        optimizer = tf.keras.optimizers.Adam(learning_rate=lr_schedule)\n",
        "    else:\n",
        "        optimizer = tf.keras.optimizers.SGD(learning_rate=lr_schedule, momentum=0.9)\n",
        "\n",
        "    model.compile(optimizer=optimizer, loss='sparse_categorical_crossentropy', metrics=['accuracy'])\n",
        "    return model\n"
      ]
    },
    {
      "cell_type": "markdown",
      "metadata": {
        "id": "R8LNRxZiDv7l"
      },
      "source": [
        "4. Random Search"
      ]
    },
    {
      "cell_type": "code",
      "execution_count": null,
      "metadata": {
        "colab": {
          "base_uri": "https://localhost:8080/"
        },
        "id": "vtGrEj8DpCGK",
        "outputId": "f4b8359a-5ed7-4236-d488-61de62dd4237"
      },
      "outputs": [
        {
          "name": "stdout",
          "output_type": "stream",
          "text": [
            "Trial 10 Complete [00h 04m 11s]\n",
            "val_accuracy: 0.348793089389801\n",
            "\n",
            "Best val_accuracy So Far: 0.3808620572090149\n",
            "Total elapsed time: 00h 42m 03s\n"
          ]
        }
      ],
      "source": [
        "tuner = kt.RandomSearch(model_builder_random, objective='val_accuracy', max_trials=10, executions_per_trial=1, directory='keras_tuner_dir', project_name='BatchNorm_model_opt')\n",
        "tuner.search(x=X_train, y=y_train, epochs=20, validation_data=(X_val, y_val))\n",
        "model_best_hps = tuner.get_best_hyperparameters(num_trials=1)[0]"
      ]
    },
    {
      "cell_type": "markdown",
      "metadata": {
        "id": "9bu_VCM_EIct"
      },
      "source": [
        "5. Best model choice:"
      ]
    },
    {
      "cell_type": "code",
      "execution_count": null,
      "metadata": {
        "colab": {
          "base_uri": "https://localhost:8080/"
        },
        "id": "Xma3eGJFLX4I",
        "outputId": "a033a201-ff77-42c1-8b5d-ba945dc823b9"
      },
      "outputs": [
        {
          "name": "stdout",
          "output_type": "stream",
          "text": [
            "\n",
            "The best optimizer is sgd.\n",
            "The best initializer is he_uniform.\n",
            "The best activation function is elu.\n",
            "\n"
          ]
        }
      ],
      "source": [
        "initializer_choice = model_best_hps.get('initializer')\n",
        "\n",
        "if initializer_choice == 'he_uniform':\n",
        "    activation_choice_key = 'activation_he'\n",
        "elif initializer_choice == 'glorot_uniform':\n",
        "    activation_choice_key = 'activation_glorot'\n",
        "else:\n",
        "    activation_choice_key = 'activation'\n",
        "\n",
        "print(f\"\"\"\n",
        "The best optimizer is {model_best_hps.get('optimizer')}.\n",
        "The best initializer is {initializer_choice}.\n",
        "The best activation function is {model_best_hps.get(activation_choice_key)}.\n",
        "\"\"\")"
      ]
    },
    {
      "cell_type": "markdown",
      "metadata": {
        "id": "0ASadeDm2psD"
      },
      "source": [
        "6. Fit the best model, and consider the confusion matrix to check for class imbalance in the predictions."
      ]
    },
    {
      "cell_type": "code",
      "execution_count": null,
      "metadata": {
        "id": "wlKQRdOGA6l_"
      },
      "outputs": [],
      "source": [
        "best_model = model_builder_random(model_best_hps)\n",
        "\n",
        "optimizer_name = model_best_hps.get('optimizer')\n",
        "learning_rate = model_best_hps.get('initial_learning_rate')\n",
        "\n",
        "if optimizer_name == 'adam':\n",
        "    optimizer = Adam(learning_rate=learning_rate)\n",
        "elif optimizer_name == 'sgd':\n",
        "    optimizer = SGD(learning_rate=learning_rate, momentum=0.9)\n",
        "else:\n",
        "    raise ValueError(\"Unsupported optimizer\")\n",
        "\n",
        "best_model.compile(optimizer=optimizer,\n",
        "                   loss='sparse_categorical_crossentropy',\n",
        "                   metrics=['accuracy'])"
      ]
    },
    {
      "cell_type": "code",
      "execution_count": null,
      "metadata": {
        "colab": {
          "base_uri": "https://localhost:8080/"
        },
        "id": "aObdQgsYAL5N",
        "outputId": "b4609872-534f-4afa-81d4-78fadcf14514"
      },
      "outputs": [
        {
          "name": "stdout",
          "output_type": "stream",
          "text": [
            "Epoch 1/20\n",
            "725/725 [==============================] - 14s 17ms/step - loss: 7.2341 - accuracy: 0.2319 - val_loss: 8.1068 - val_accuracy: 0.2216\n",
            "Epoch 2/20\n",
            "725/725 [==============================] - 12s 17ms/step - loss: 7.0064 - accuracy: 0.2621 - val_loss: 4.1725 - val_accuracy: 0.3083\n",
            "Epoch 3/20\n",
            "725/725 [==============================] - 12s 17ms/step - loss: 4.3824 - accuracy: 0.2852 - val_loss: 2.2007 - val_accuracy: 0.3364\n",
            "Epoch 4/20\n",
            "725/725 [==============================] - 12s 17ms/step - loss: 1.8408 - accuracy: 0.3648 - val_loss: 1.6241 - val_accuracy: 0.3757\n",
            "Epoch 5/20\n",
            "725/725 [==============================] - 12s 17ms/step - loss: 1.5482 - accuracy: 0.4060 - val_loss: 1.6140 - val_accuracy: 0.3747\n",
            "Epoch 6/20\n",
            "725/725 [==============================] - 12s 17ms/step - loss: 1.5328 - accuracy: 0.4118 - val_loss: 1.6168 - val_accuracy: 0.3728\n",
            "Epoch 7/20\n",
            "725/725 [==============================] - 12s 17ms/step - loss: 1.5235 - accuracy: 0.4187 - val_loss: 1.6178 - val_accuracy: 0.3755\n",
            "Epoch 8/20\n",
            "725/725 [==============================] - 12s 17ms/step - loss: 1.5092 - accuracy: 0.4250 - val_loss: 1.6220 - val_accuracy: 0.3693\n",
            "Epoch 9/20\n",
            "725/725 [==============================] - 12s 17ms/step - loss: 1.5037 - accuracy: 0.4248 - val_loss: 1.6197 - val_accuracy: 0.3807\n",
            "Epoch 10/20\n",
            "725/725 [==============================] - 12s 17ms/step - loss: 1.4955 - accuracy: 0.4275 - val_loss: 1.6236 - val_accuracy: 0.3781\n",
            "Epoch 11/20\n",
            "725/725 [==============================] - 12s 17ms/step - loss: 1.4885 - accuracy: 0.4356 - val_loss: 1.6265 - val_accuracy: 0.3791\n",
            "Epoch 12/20\n",
            "725/725 [==============================] - 12s 17ms/step - loss: 1.4803 - accuracy: 0.4361 - val_loss: 1.6378 - val_accuracy: 0.3757\n",
            "Epoch 13/20\n",
            "725/725 [==============================] - 12s 17ms/step - loss: 1.4741 - accuracy: 0.4380 - val_loss: 1.6406 - val_accuracy: 0.3736\n",
            "Epoch 14/20\n",
            "725/725 [==============================] - 12s 17ms/step - loss: 1.4680 - accuracy: 0.4394 - val_loss: 1.6346 - val_accuracy: 0.3803\n",
            "Epoch 15/20\n",
            "725/725 [==============================] - 12s 17ms/step - loss: 1.4581 - accuracy: 0.4424 - val_loss: 1.6332 - val_accuracy: 0.3726\n",
            "Epoch 16/20\n",
            "725/725 [==============================] - 12s 17ms/step - loss: 1.4525 - accuracy: 0.4461 - val_loss: 1.6397 - val_accuracy: 0.3755\n",
            "Epoch 17/20\n",
            "725/725 [==============================] - 12s 17ms/step - loss: 1.4484 - accuracy: 0.4484 - val_loss: 1.6568 - val_accuracy: 0.3736\n",
            "Epoch 18/20\n",
            "725/725 [==============================] - 12s 17ms/step - loss: 1.4440 - accuracy: 0.4508 - val_loss: 1.6460 - val_accuracy: 0.3745\n",
            "Epoch 19/20\n",
            "725/725 [==============================] - 12s 17ms/step - loss: 1.4310 - accuracy: 0.4577 - val_loss: 1.6468 - val_accuracy: 0.3667\n",
            "Epoch 20/20\n",
            "725/725 [==============================] - 12s 17ms/step - loss: 1.4284 - accuracy: 0.4569 - val_loss: 1.6552 - val_accuracy: 0.3753\n"
          ]
        }
      ],
      "source": [
        "history = best_model.fit(X_train, y_train, epochs=20, validation_data=(X_val, y_val))"
      ]
    },
    {
      "cell_type": "code",
      "execution_count": null,
      "metadata": {
        "colab": {
          "base_uri": "https://localhost:8080/"
        },
        "id": "Xyy0BcKZAjA2",
        "outputId": "ca2ea5a7-4c72-41a9-d92e-430bfd7e79e4"
      },
      "outputs": [
        {
          "name": "stdout",
          "output_type": "stream",
          "text": [
            "182/182 [==============================] - 1s 6ms/step\n",
            "Confusion Matrix:\n",
            " [[150   1  92 224 167  65 100]\n",
            " [  8  12  15  19  14   8  12]\n",
            " [102   1 151 183 165 129  97]\n",
            " [105   1  79 908 173  70 122]\n",
            " [113   1  86 271 314  48 155]\n",
            " [ 34   0  63  98  54 344  48]\n",
            " [112   2 100 236 171  79 298]]\n",
            "Mean Validation Accuracy: 0.3620\n",
            "Standard Deviation of Validation Accuracy: 0.0363\n"
          ]
        }
      ],
      "source": [
        "y_val_pred = best_model.predict(X_val)\n",
        "y_val_pred_classes = np.argmax(y_val_pred, axis=1)\n",
        "\n",
        "val_acc = history.history['val_accuracy']\n",
        "\n",
        "mean_val_acc = np.mean(val_acc)\n",
        "std_dev_val_acc = np.std(val_acc)\n",
        "\n",
        "print(f\"Mean Validation Accuracy: {mean_val_acc:.4f}\")\n",
        "print(f\"Standard Deviation of Validation Accuracy: {std_dev_val_acc:.4f}\")"
      ]
    },
    {
      "cell_type": "code",
      "execution_count": null,
      "metadata": {
        "colab": {
          "base_uri": "https://localhost:8080/",
          "height": 407
        },
        "id": "SL6aJftF2u7A",
        "outputId": "302ba456-cb47-458f-87bb-75406206ec24"
      },
      "outputs": [
        {
          "data": {
            "image/png": "[encoded data removed]",
            "text/plain": [
              "<Figure size 1000x400 with 2 Axes>"
            ]
          },
          "metadata": {},
          "output_type": "display_data"
        }
      ],
      "source": [
        "train_loss = history.history['loss']\n",
        "val_loss = history.history['val_loss']\n",
        "train_accuracy = history.history['accuracy']\n",
        "val_accuracy = history.history['val_accuracy']\n",
        "\n",
        "fig, ax = plt.subplots(1, 2, figsize=(10, 4))\n",
        "\n",
        "ax[0].plot(train_loss, label='Training Loss')\n",
        "ax[0].plot(val_loss, label='Validation Loss')\n",
        "ax[0].set_title('Training and Validation Loss')\n",
        "ax[0].set_xlabel('Epochs')\n",
        "ax[0].set_ylabel('Loss')\n",
        "ax[0].legend()\n",
        "\n",
        "ax[1].plot(train_accuracy, label='Training Accuracy')\n",
        "ax[1].plot(val_accuracy, label='Validation Accuracy')\n",
        "ax[1].set_title('Training and Validation Accuracy')\n",
        "ax[1].set_xlabel('Epochs')\n",
        "ax[1].set_ylabel('Accuracy')\n",
        "ax[1].legend()\n",
        "\n",
        "plt.tight_layout()\n",
        "plt.show()"
      ]
    },
    {
      "cell_type": "markdown",
      "metadata": {
        "id": "12L0RCHm660d"
      },
      "source": [
        "The Training and Validation Accuracy continuinly improve, for a few epochs, then the model appears to be overfitting, as it performs better on the training data than on the validation data. This is even with dropout, batch normalisation and data augmentation. Both training and validation loss decrease sharply and then plateau, suggesting that the model is learning and stabilizing. However the validation loss stops decreasing after about 5 epochs and remains constant, which might suggest that the model is not generalizing much after this point. The validation loss is still relatively high (around 1.6), and it's not decreasing significantly over time. This could indicate that the model is struggling to learn from the training data and generalize to the validation data. A high loss value, especially if it's not decreasing much over time, often indicates that the model is not fitting the data well. This could be due to several reasons: Model Architecture, Learning Rate, Data Issues, Optimization problem.\n",
        "\n",
        "\n",
        "Still suprising to see the DNN did not perform as well as the Random Forest. One possibility may be due to the size of our data set. For image data, its not huge. DNNs usually require large amounts of data to learn effective representations of features, without overfitting. Random Forests may instead perform better on smaller datasets."
      ]
    },
    {
      "cell_type": "markdown",
      "metadata": {
        "id": "RTgdgGhYhGkB"
      },
      "source": [
        "✅ **ResNet50**"
      ]
    },
    {
      "cell_type": "markdown",
      "metadata": {
        "id": "JfMzvqR9yOEB"
      },
      "source": [
        "ResNet50 is our chosen model due to its powerful performance on image data. Furthermore, we can utilise transfer learning with ImageNet weights. Training a deep model like ResNet50 from scratch requires a considerable amount of data, time, and resources. Transfer learning allows us to achieve high levels of accuracy with less data and in less time by fine-tuning a pretrained model.\n"
      ]
    },
    {
      "cell_type": "markdown",
      "metadata": {
        "id": "7Zox-Vx30DQk"
      },
      "source": [
        "*Roy, Manna and Bruzzone* suggest in their paper \"Attention-Based Adaptive Spectral–Spatial Kernel ResNet for Hyperspectral Image Classification\", the following hyperameters to explore when modelling a ResNet50. We will explore some of these as we tune our model:\n",
        "\n",
        "*   Version\t[’v1’, ‘v2’, ‘next’]\n",
        "*   Batch Size\t[32]\n",
        "*   conv3_depth\t[4, 8]\n",
        "*   conv4_depth\t[6, 23, 36]\n",
        "*   Pooling\t[’avg’, ‘max’]\n",
        "*   Learning rate\t[0.1, 0.01, 0.001]\n",
        "*   Optimizer\t[’adam’, ‘rmsprop’, ‘sgd’]\n"
      ]
    },
    {
      "cell_type": "markdown",
      "metadata": {
        "id": "ut-y84oe0Rim"
      },
      "source": [
        "1. Pre-process data\n",
        "\n",
        "We are now using our copied data. Firstly, we will process the data in the same way we did for the DNN model. However, we may need to modify our image data to replicate a 3 channel color image. We will also need to one hot encode the targets."
      ]
    },
    {
      "cell_type": "code",
      "execution_count": null,
      "metadata": {
        "colab": {
          "base_uri": "https://localhost:8080/"
        },
        "id": "gj9VgNtuAQPc",
        "outputId": "979d955a-634e-4cc0-b672-6c423d42302b"
      },
      "outputs": [
        {
          "data": {
            "text/plain": [
              "0         9415\n",
              "1        19109\n",
              "2        21523\n",
              "3         2076\n",
              "4        13957\n",
              "         ...  \n",
              "28995     7926\n",
              "28996    21200\n",
              "28997     1097\n",
              "28998     4186\n",
              "28999     8701\n",
              "Name: id, Length: 29000, dtype: int64"
            ]
          },
          "execution_count": 10,
          "metadata": {},
          "output_type": "execute_result"
        }
      ],
      "source": [
        "X_cnn_copy\n",
        "y_cnn_copy\n",
        "id_cnn_copy"
      ]
    },
    {
      "cell_type": "markdown",
      "metadata": {
        "id": "5zYry2YZHcl2"
      },
      "source": [
        "2. Create copy to train best model on entire train set."
      ]
    },
    {
      "cell_type": "code",
      "execution_count": null,
      "metadata": {
        "id": "6AIwzGq6HZMC"
      },
      "outputs": [],
      "source": [
        "X_cnn = X_cnn_copy.copy()\n",
        "y_cnn = y_cnn_copy.copy()\n",
        "id_cnn = id_cnn_copy.copy()"
      ]
    },
    {
      "cell_type": "markdown",
      "metadata": {
        "id": "E1J09YauETzZ"
      },
      "source": [
        "3. Normalise the values"
      ]
    },
    {
      "cell_type": "code",
      "execution_count": null,
      "metadata": {
        "id": "36ahmKc8euG6"
      },
      "outputs": [],
      "source": [
        "X_cnn_copy = np.array([np.fromstring(img, dtype=np.float32, sep=' ') for img in X_cnn_copy]) / 255.0\n",
        "X_cnn_copy = X_cnn_copy.reshape(-1, 48, 48, 1)"
      ]
    },
    {
      "cell_type": "markdown",
      "metadata": {
        "id": "sWBihnCZEXS7"
      },
      "source": [
        "4. Re-shape data to mimic a 3-channel color image"
      ]
    },
    {
      "cell_type": "code",
      "execution_count": null,
      "metadata": {
        "id": "TqQ4uT_dCBka"
      },
      "outputs": [],
      "source": [
        "X_cnn_copy = np.repeat(X_cnn_copy, 3, axis=-1)"
      ]
    },
    {
      "cell_type": "code",
      "execution_count": null,
      "metadata": {
        "colab": {
          "base_uri": "https://localhost:8080/"
        },
        "id": "3-oIvrWICX2N",
        "outputId": "58bb4e73-7c27-445e-ef07-37ca79b5580a"
      },
      "outputs": [
        {
          "data": {
            "text/plain": [
              "(29000, 48, 48, 3)"
            ]
          },
          "execution_count": 14,
          "metadata": {},
          "output_type": "execute_result"
        }
      ],
      "source": [
        "X_cnn_copy.shape"
      ]
    },
    {
      "cell_type": "markdown",
      "metadata": {
        "id": "XiCWrW4JEhtP"
      },
      "source": [
        "5. Scale and re-shape the data"
      ]
    },
    {
      "cell_type": "code",
      "execution_count": null,
      "metadata": {
        "id": "RjCio85Ve3AB"
      },
      "outputs": [],
      "source": [
        "scaler = StandardScaler()\n",
        "X_reshaped = X_cnn_copy.reshape(-1, 48, 48, 3)\n",
        "X_scaled = scaler.fit_transform(X_reshaped.reshape(-1, 48*48*3)).reshape(-1, 48, 48, 3)"
      ]
    },
    {
      "cell_type": "markdown",
      "metadata": {
        "id": "fW67OCIDEmgb"
      },
      "source": [
        "6. Train and validation"
      ]
    },
    {
      "cell_type": "code",
      "execution_count": null,
      "metadata": {
        "id": "lawudKEtAkyc"
      },
      "outputs": [],
      "source": [
        "val_size = 0.2\n",
        "X_train, X_val, y_train, y_val = train_test_split(X_scaled, y_cnn_copy, test_size=val_size, random_state=42, stratify=y)"
      ]
    },
    {
      "cell_type": "markdown",
      "metadata": {
        "id": "cex244G-ErzF"
      },
      "source": [
        "7. One hot encode the labels"
      ]
    },
    {
      "cell_type": "code",
      "execution_count": null,
      "metadata": {
        "id": "y2IlP1W5C5xa"
      },
      "outputs": [],
      "source": [
        "y_train_one_hot = to_categorical(y_train)\n",
        "y_val_one_hot = to_categorical(y_val)"
      ]
    },
    {
      "cell_type": "markdown",
      "metadata": {
        "id": "eteotnaFEz0y"
      },
      "source": [
        "8. Creating data augmentation to apply to our models. This is a simpler and cleaner way of augmenting the data than the code used for the DNN."
      ]
    },
    {
      "cell_type": "code",
      "execution_count": null,
      "metadata": {
        "id": "FTwGfZpHL9oy"
      },
      "outputs": [],
      "source": [
        "data_augmentation = ImageDataGenerator(\n",
        "    rotation_range=15,\n",
        "    width_shift_range=0.1,\n",
        "    height_shift_range=0.1,\n",
        "    horizontal_flip=True,\n",
        "    vertical_flip=False,\n",
        "    zoom_range=0.1,\n",
        "    fill_mode='nearest'\n",
        ")\n"
      ]
    },
    {
      "cell_type": "markdown",
      "metadata": {
        "id": "PKcUH9tUwRWw"
      },
      "source": [
        "✅ **Model 0: ResNet50, no augmentation, no regualarisation**\n",
        "\n",
        "Firstly we import ResNet50, using the weights pre-trained and recovered from ImageNet. The model starts with all of the ResNet50 layers frozen."
      ]
    },
    {
      "cell_type": "markdown",
      "metadata": {
        "id": "bWp-2efe5iP8"
      },
      "source": [
        "1. Load model with imagenet weights and freeze all layers"
      ]
    },
    {
      "cell_type": "code",
      "execution_count": null,
      "metadata": {
        "id": "clf2NrPadYhj"
      },
      "outputs": [],
      "source": [
        "reg_base_model = ResNet50(weights='imagenet', include_top=False, input_shape=(48, 48, 3))\n",
        "\n",
        "for layer in reg_base_model.layers:\n",
        "    layer.trainable = False\n",
        "\n",
        "x = GlobalAveragePooling2D()(reg_base_model.output)\n",
        "x = Dense(128, activation='relu')(x)\n",
        "n_classes = 7\n",
        "predictions = Dense(n_classes, activation='softmax')(x)\n",
        "\n",
        "model = Model(inputs=reg_base_model.input, outputs=predictions)\n",
        "optimizer = Adam(learning_rate=0.001)\n",
        "model.compile(optimizer=optimizer, loss='categorical_crossentropy', metrics=['accuracy'])"
      ]
    },
    {
      "cell_type": "markdown",
      "metadata": {
        "id": "SC4l8jx25qyf"
      },
      "source": [
        "2. Check the number of layers"
      ]
    },
    {
      "cell_type": "code",
      "execution_count": null,
      "metadata": {
        "colab": {
          "base_uri": "https://localhost:8080/"
        },
        "id": "oux5cTtkdbns",
        "outputId": "9fa39884-65d8-4fd7-a598-638aabf38143"
      },
      "outputs": [
        {
          "name": "stdout",
          "output_type": "stream",
          "text": [
            "Number of layers in the model: 178\n"
          ]
        }
      ],
      "source": [
        "num_layers = len(model.layers)\n",
        "print(\"Number of layers in the model:\", num_layers)"
      ]
    },
    {
      "cell_type": "markdown",
      "metadata": {
        "id": "4AzXkpUj5tM_"
      },
      "source": [
        "5. Train model for 3 epochs"
      ]
    },
    {
      "cell_type": "code",
      "execution_count": null,
      "metadata": {
        "colab": {
          "base_uri": "https://localhost:8080/"
        },
        "id": "LP2Yb7rxdiQA",
        "outputId": "3926b6d2-cb5a-4737-ca64-263371f5e5a6"
      },
      "outputs": [
        {
          "name": "stdout",
          "output_type": "stream",
          "text": [
            "Epoch 1/3\n",
            "725/725 [==============================] - 12s 10ms/step - loss: 1.7353 - accuracy: 0.3012 - val_loss: 1.6863 - val_accuracy: 0.3274\n",
            "Epoch 2/3\n",
            "725/725 [==============================] - 6s 8ms/step - loss: 1.6500 - accuracy: 0.3494 - val_loss: 1.6689 - val_accuracy: 0.3381\n",
            "Epoch 3/3\n",
            "725/725 [==============================] - 6s 8ms/step - loss: 1.6050 - accuracy: 0.3669 - val_loss: 1.6411 - val_accuracy: 0.3479\n"
          ]
        }
      ],
      "source": [
        "history = model.fit(X_train, y_train_one_hot, batch_size=32, steps_per_epoch=len(X_train) / 32, validation_data=(X_val, y_val_one_hot), epochs=3)"
      ]
    },
    {
      "cell_type": "markdown",
      "metadata": {
        "id": "E8l3G-Sq5y2O"
      },
      "source": [
        "6. Unfreeze most layers (from layers 51)"
      ]
    },
    {
      "cell_type": "code",
      "execution_count": null,
      "metadata": {
        "id": "cxpEV_eQduYe"
      },
      "outputs": [],
      "source": [
        "for layer in reg_base_model.layers[50:]:\n",
        "    layer.trainable = True"
      ]
    },
    {
      "cell_type": "markdown",
      "metadata": {
        "id": "DAUh9APX5_Cq"
      },
      "source": [
        "7. Compile the model for longer (usually, you reduce the learning rate here, but we won't for now)"
      ]
    },
    {
      "cell_type": "code",
      "execution_count": null,
      "metadata": {
        "colab": {
          "base_uri": "https://localhost:8080/"
        },
        "id": "jxhonzSzdw05",
        "outputId": "ea8267ae-7af8-4784-8112-d62b21cfc172"
      },
      "outputs": [
        {
          "name": "stdout",
          "output_type": "stream",
          "text": [
            "Epoch 1/30\n",
            "725/725 [==============================] - 45s 31ms/step - loss: 1.5974 - accuracy: 0.3888 - val_loss: 24.2758 - val_accuracy: 0.3097\n",
            "Epoch 2/30\n",
            "725/725 [==============================] - 21s 29ms/step - loss: 1.4568 - accuracy: 0.4363 - val_loss: 2.3082 - val_accuracy: 0.2407\n",
            "Epoch 3/30\n",
            "725/725 [==============================] - 20s 28ms/step - loss: 1.4237 - accuracy: 0.4541 - val_loss: 2.0549 - val_accuracy: 0.3483\n",
            "Epoch 4/30\n",
            "725/725 [==============================] - 21s 29ms/step - loss: 1.3811 - accuracy: 0.4712 - val_loss: 1.3720 - val_accuracy: 0.4821\n",
            "Epoch 5/30\n",
            "725/725 [==============================] - 21s 29ms/step - loss: 1.2842 - accuracy: 0.5150 - val_loss: 1.3666 - val_accuracy: 0.4874\n",
            "Epoch 6/30\n",
            "725/725 [==============================] - 21s 29ms/step - loss: 1.2296 - accuracy: 0.5358 - val_loss: 1.3124 - val_accuracy: 0.5017\n",
            "Epoch 7/30\n",
            "725/725 [==============================] - 20s 28ms/step - loss: 1.1817 - accuracy: 0.5543 - val_loss: 1.3661 - val_accuracy: 0.5069\n",
            "Epoch 8/30\n",
            "725/725 [==============================] - 21s 29ms/step - loss: 1.1218 - accuracy: 0.5788 - val_loss: 1.3689 - val_accuracy: 0.5000\n",
            "Epoch 9/30\n",
            "725/725 [==============================] - 21s 29ms/step - loss: 1.0594 - accuracy: 0.6056 - val_loss: 1.2241 - val_accuracy: 0.5478\n",
            "Epoch 10/30\n",
            "725/725 [==============================] - 22s 30ms/step - loss: 0.9766 - accuracy: 0.6359 - val_loss: 1.2398 - val_accuracy: 0.5479\n",
            "Epoch 11/30\n",
            "725/725 [==============================] - 21s 29ms/step - loss: 0.8967 - accuracy: 0.6683 - val_loss: 1.2541 - val_accuracy: 0.5484\n",
            "Epoch 12/30\n",
            "725/725 [==============================] - 21s 28ms/step - loss: 0.8087 - accuracy: 0.7002 - val_loss: 1.3043 - val_accuracy: 0.5534\n",
            "Epoch 13/30\n",
            "725/725 [==============================] - 21s 29ms/step - loss: 0.7213 - accuracy: 0.7375 - val_loss: 1.4216 - val_accuracy: 0.5395\n",
            "Epoch 14/30\n",
            "725/725 [==============================] - 20s 28ms/step - loss: 0.6254 - accuracy: 0.7725 - val_loss: 1.6153 - val_accuracy: 0.5412\n",
            "Epoch 15/30\n",
            "725/725 [==============================] - 21s 29ms/step - loss: 0.5571 - accuracy: 0.8009 - val_loss: 1.5239 - val_accuracy: 0.5541\n",
            "Epoch 16/30\n",
            "725/725 [==============================] - 22s 30ms/step - loss: 0.4711 - accuracy: 0.8294 - val_loss: 1.6439 - val_accuracy: 0.5460\n",
            "Epoch 17/30\n",
            "725/725 [==============================] - 21s 29ms/step - loss: 0.3968 - accuracy: 0.8591 - val_loss: 1.7705 - val_accuracy: 0.5603\n",
            "Epoch 18/30\n",
            "725/725 [==============================] - 21s 30ms/step - loss: 0.3345 - accuracy: 0.8810 - val_loss: 1.8215 - val_accuracy: 0.5540\n",
            "Epoch 19/30\n",
            "725/725 [==============================] - 21s 29ms/step - loss: 0.3009 - accuracy: 0.8940 - val_loss: 1.9424 - val_accuracy: 0.5522\n",
            "Epoch 20/30\n",
            "725/725 [==============================] - 21s 29ms/step - loss: 0.2946 - accuracy: 0.8959 - val_loss: 2.0467 - val_accuracy: 0.5440\n",
            "Epoch 21/30\n",
            "725/725 [==============================] - 21s 29ms/step - loss: 0.2384 - accuracy: 0.9169 - val_loss: 1.8568 - val_accuracy: 0.5616\n",
            "Epoch 22/30\n",
            "725/725 [==============================] - 21s 29ms/step - loss: 0.1982 - accuracy: 0.9315 - val_loss: 2.1265 - val_accuracy: 0.5579\n",
            "Epoch 23/30\n",
            "725/725 [==============================] - 21s 29ms/step - loss: 0.1937 - accuracy: 0.9333 - val_loss: 2.2035 - val_accuracy: 0.5419\n",
            "Epoch 24/30\n",
            "725/725 [==============================] - 21s 29ms/step - loss: 0.1859 - accuracy: 0.9346 - val_loss: 2.2455 - val_accuracy: 0.5347\n",
            "Epoch 25/30\n",
            "725/725 [==============================] - 21s 29ms/step - loss: 0.1567 - accuracy: 0.9454 - val_loss: 2.3453 - val_accuracy: 0.5588\n",
            "Epoch 26/30\n",
            "725/725 [==============================] - 21s 29ms/step - loss: 0.1480 - accuracy: 0.9500 - val_loss: 2.3827 - val_accuracy: 0.5502\n",
            "Epoch 27/30\n",
            "725/725 [==============================] - 21s 29ms/step - loss: 0.1449 - accuracy: 0.9499 - val_loss: 2.2906 - val_accuracy: 0.5540\n",
            "Epoch 28/30\n",
            "725/725 [==============================] - 21s 28ms/step - loss: 0.1327 - accuracy: 0.9546 - val_loss: 2.2751 - val_accuracy: 0.5562\n",
            "Epoch 29/30\n",
            "725/725 [==============================] - 21s 29ms/step - loss: 0.1498 - accuracy: 0.9516 - val_loss: 2.1145 - val_accuracy: 0.5528\n",
            "Epoch 30/30\n",
            "725/725 [==============================] - 21s 29ms/step - loss: 0.1380 - accuracy: 0.9526 - val_loss: 2.4755 - val_accuracy: 0.5609\n"
          ]
        }
      ],
      "source": [
        "optimizer = Adam(learning_rate=0.001)\n",
        "model.compile(optimizer=optimizer, loss='categorical_crossentropy', metrics=['accuracy'])\n",
        "history = model.fit(X_train, y_train_one_hot, batch_size=32, steps_per_epoch=len(X_train) / 32, validation_data=(X_val, y_val_one_hot), epochs=30)"
      ]
    },
    {
      "cell_type": "markdown",
      "metadata": {
        "id": "pzNKM-be6Fpa"
      },
      "source": [
        "8. Results"
      ]
    },
    {
      "cell_type": "code",
      "execution_count": null,
      "metadata": {
        "colab": {
          "base_uri": "https://localhost:8080/"
        },
        "id": "-JqRQVQwj_KZ",
        "outputId": "27f8f93f-4ad8-4cd3-f933-5817c00a19a5"
      },
      "outputs": [
        {
          "name": "stdout",
          "output_type": "stream",
          "text": [
            "Mean Validation Accuracy: 0.5165\n",
            "Standard Deviation of Validation Accuracy: 0.0768\n"
          ]
        }
      ],
      "source": [
        "val_acc = history.history['val_accuracy']\n",
        "\n",
        "mean_val_acc = np.mean(val_acc)\n",
        "std_dev_val_acc = np.std(val_acc)\n",
        "\n",
        "print(f\"Mean Validation Accuracy: {mean_val_acc:.4f}\")\n",
        "print(f\"Standard Deviation of Validation Accuracy: {std_dev_val_acc:.4f}\")"
      ]
    },
    {
      "cell_type": "markdown",
      "metadata": {
        "id": "YspXKo-BK7Jd"
      },
      "source": [
        "As expected, a lot of overfitting and no learning on the validation set."
      ]
    },
    {
      "cell_type": "markdown",
      "metadata": {
        "id": "AsJLyRuZb3Xt"
      },
      "source": [
        "✅ **Model 1: ResNet50**\n",
        "\n",
        "We will build our next model. Due to the above overfitting, this model now incorporates batch normalisation, and we apply data augmentation. The model starts with all of the ResNet50 layers frozen."
      ]
    },
    {
      "cell_type": "markdown",
      "metadata": {
        "id": "pV6_mbnF6JK0"
      },
      "source": [
        "1. Import model"
      ]
    },
    {
      "cell_type": "code",
      "execution_count": null,
      "metadata": {
        "id": "66tPQDnwTnlM"
      },
      "outputs": [],
      "source": [
        "reg_base_model = ResNet50(weights='imagenet', include_top=False, input_shape=(48, 48, 3))"
      ]
    },
    {
      "cell_type": "markdown",
      "metadata": {
        "id": "6l_E4OXB6KxJ"
      },
      "source": [
        "2. Freeze all layers"
      ]
    },
    {
      "cell_type": "code",
      "execution_count": null,
      "metadata": {
        "id": "B8DokS25Tsvb"
      },
      "outputs": [],
      "source": [
        "for layer in reg_base_model.layers:\n",
        "    layer.trainable = False"
      ]
    },
    {
      "cell_type": "markdown",
      "metadata": {
        "id": "gXXjRoWo6Nma"
      },
      "source": [
        "3. Add own layers include batch norm, data augmentation to train. Train for 3 epochs."
      ]
    },
    {
      "cell_type": "code",
      "execution_count": null,
      "metadata": {
        "colab": {
          "base_uri": "https://localhost:8080/"
        },
        "id": "k30aRSQpTvkT",
        "outputId": "fe4fafe1-f569-48e8-b112-88e29311f122"
      },
      "outputs": [
        {
          "name": "stdout",
          "output_type": "stream",
          "text": [
            "Epoch 1/3\n",
            "725/725 [==============================] - 27s 30ms/step - loss: 1.8348 - accuracy: 0.2754 - val_loss: 1.7489 - val_accuracy: 0.3121\n",
            "Epoch 2/3\n",
            "725/725 [==============================] - 21s 29ms/step - loss: 1.7172 - accuracy: 0.3136 - val_loss: 1.7201 - val_accuracy: 0.3243\n",
            "Epoch 3/3\n",
            "725/725 [==============================] - 21s 29ms/step - loss: 1.6980 - accuracy: 0.3201 - val_loss: 1.7053 - val_accuracy: 0.3212\n"
          ]
        }
      ],
      "source": [
        "x = GlobalAveragePooling2D()(reg_base_model.output)\n",
        "x = BatchNormalization()(x)\n",
        "x = Dense(128, activation='relu')(x)\n",
        "x = BatchNormalization()(x)\n",
        "n_classes = 7\n",
        "predictions = Dense(n_classes, activation='softmax')(x)\n",
        "\n",
        "model = Model(inputs=reg_base_model.input, outputs=predictions)\n",
        "\n",
        "optimizer = Adam(learning_rate=0.001)\n",
        "model.compile(optimizer=optimizer, loss='categorical_crossentropy', metrics=['accuracy'])\n",
        "\n",
        "history = model.fit(data_augmentation.flow(X_train, y_train_one_hot, batch_size=32), steps_per_epoch=len(X_train) / 32, validation_data=(X_val, y_val_one_hot), epochs=3)"
      ]
    },
    {
      "cell_type": "markdown",
      "metadata": {
        "id": "jzvVibPP6WpZ"
      },
      "source": [
        "4. Unfreeze same layers as before"
      ]
    },
    {
      "cell_type": "code",
      "execution_count": null,
      "metadata": {
        "id": "7_zkpErHUMcN"
      },
      "outputs": [],
      "source": [
        "for layer in reg_base_model.layers[50:]:\n",
        "    layer.trainable = True"
      ]
    },
    {
      "cell_type": "markdown",
      "metadata": {
        "id": "fbC0e6UN6aXH"
      },
      "source": [
        "5. Recompile model and train for 60 epochs"
      ]
    },
    {
      "cell_type": "code",
      "execution_count": null,
      "metadata": {
        "colab": {
          "base_uri": "https://localhost:8080/"
        },
        "id": "HIj3RjR-UTgT",
        "outputId": "39dec95b-ea15-4558-807d-fa162beae8a8"
      },
      "outputs": [
        {
          "name": "stdout",
          "output_type": "stream",
          "text": [
            "Epoch 1/60\n",
            "725/725 [==============================] - 46s 35ms/step - loss: 1.6634 - accuracy: 0.3472 - val_loss: 1.7739 - val_accuracy: 0.3019\n",
            "Epoch 2/60\n",
            "725/725 [==============================] - 24s 32ms/step - loss: 1.5549 - accuracy: 0.3947 - val_loss: 1.7990 - val_accuracy: 0.3743\n",
            "Epoch 3/60\n",
            "725/725 [==============================] - 24s 32ms/step - loss: 1.4934 - accuracy: 0.4237 - val_loss: 1.5332 - val_accuracy: 0.4276\n",
            "Epoch 4/60\n",
            "725/725 [==============================] - 24s 33ms/step - loss: 1.4732 - accuracy: 0.4338 - val_loss: 8.2926 - val_accuracy: 0.3453\n",
            "Epoch 5/60\n",
            "725/725 [==============================] - 24s 33ms/step - loss: 1.4764 - accuracy: 0.4315 - val_loss: 1.4275 - val_accuracy: 0.4476\n",
            "Epoch 6/60\n",
            "725/725 [==============================] - 24s 33ms/step - loss: 1.4430 - accuracy: 0.4429 - val_loss: 1.6045 - val_accuracy: 0.4755\n",
            "Epoch 7/60\n",
            "725/725 [==============================] - 24s 33ms/step - loss: 1.4209 - accuracy: 0.4538 - val_loss: 15.4423 - val_accuracy: 0.2909\n",
            "Epoch 8/60\n",
            "725/725 [==============================] - 24s 33ms/step - loss: 1.4111 - accuracy: 0.4597 - val_loss: 1.5711 - val_accuracy: 0.4109\n",
            "Epoch 9/60\n",
            "725/725 [==============================] - 24s 33ms/step - loss: 1.4172 - accuracy: 0.4532 - val_loss: 1.6323 - val_accuracy: 0.4500\n",
            "Epoch 10/60\n",
            "725/725 [==============================] - 24s 33ms/step - loss: 1.3829 - accuracy: 0.4731 - val_loss: 1.5260 - val_accuracy: 0.4574\n",
            "Epoch 11/60\n",
            "725/725 [==============================] - 24s 33ms/step - loss: 1.3418 - accuracy: 0.4906 - val_loss: 1.3057 - val_accuracy: 0.4983\n",
            "Epoch 12/60\n",
            "725/725 [==============================] - 26s 36ms/step - loss: 1.3449 - accuracy: 0.4858 - val_loss: 1.2745 - val_accuracy: 0.5083\n",
            "Epoch 13/60\n",
            "725/725 [==============================] - 24s 33ms/step - loss: 1.3070 - accuracy: 0.5036 - val_loss: 1.2560 - val_accuracy: 0.5169\n",
            "Epoch 14/60\n",
            "725/725 [==============================] - 25s 34ms/step - loss: 1.3182 - accuracy: 0.5027 - val_loss: 1.3080 - val_accuracy: 0.5003\n",
            "Epoch 15/60\n",
            "725/725 [==============================] - 26s 36ms/step - loss: 1.3026 - accuracy: 0.5112 - val_loss: 1.3350 - val_accuracy: 0.4960\n",
            "Epoch 16/60\n",
            "725/725 [==============================] - 26s 36ms/step - loss: 1.2823 - accuracy: 0.5106 - val_loss: 1.2471 - val_accuracy: 0.5298\n",
            "Epoch 17/60\n",
            "725/725 [==============================] - 25s 34ms/step - loss: 1.2695 - accuracy: 0.5169 - val_loss: 1.2477 - val_accuracy: 0.5303\n",
            "Epoch 18/60\n",
            "725/725 [==============================] - 25s 34ms/step - loss: 1.2668 - accuracy: 0.5179 - val_loss: 1.2362 - val_accuracy: 0.5291\n",
            "Epoch 19/60\n",
            "725/725 [==============================] - 24s 33ms/step - loss: 1.2410 - accuracy: 0.5287 - val_loss: 1.1915 - val_accuracy: 0.5448\n",
            "Epoch 20/60\n",
            "725/725 [==============================] - 25s 34ms/step - loss: 1.2498 - accuracy: 0.5230 - val_loss: 1.2255 - val_accuracy: 0.5352\n",
            "Epoch 21/60\n",
            "725/725 [==============================] - 26s 35ms/step - loss: 1.2192 - accuracy: 0.5349 - val_loss: 1.2326 - val_accuracy: 0.5326\n",
            "Epoch 22/60\n",
            "725/725 [==============================] - 26s 36ms/step - loss: 1.2078 - accuracy: 0.5395 - val_loss: 1.1767 - val_accuracy: 0.5510\n",
            "Epoch 23/60\n",
            "725/725 [==============================] - 26s 36ms/step - loss: 1.1996 - accuracy: 0.5445 - val_loss: 1.2104 - val_accuracy: 0.5397\n",
            "Epoch 24/60\n",
            "725/725 [==============================] - 27s 38ms/step - loss: 1.1845 - accuracy: 0.5542 - val_loss: 1.2420 - val_accuracy: 0.5231\n",
            "Epoch 25/60\n",
            "725/725 [==============================] - 26s 36ms/step - loss: 1.1832 - accuracy: 0.5523 - val_loss: 1.2725 - val_accuracy: 0.5352\n",
            "Epoch 26/60\n",
            "725/725 [==============================] - 26s 36ms/step - loss: 1.1669 - accuracy: 0.5578 - val_loss: 1.2704 - val_accuracy: 0.5090\n",
            "Epoch 27/60\n",
            "725/725 [==============================] - 27s 37ms/step - loss: 1.1580 - accuracy: 0.5667 - val_loss: 1.1792 - val_accuracy: 0.5529\n",
            "Epoch 28/60\n",
            "725/725 [==============================] - 24s 33ms/step - loss: 1.1518 - accuracy: 0.5658 - val_loss: 1.1875 - val_accuracy: 0.5459\n",
            "Epoch 29/60\n",
            "725/725 [==============================] - 24s 33ms/step - loss: 1.1441 - accuracy: 0.5699 - val_loss: 1.1977 - val_accuracy: 0.5464\n",
            "Epoch 30/60\n",
            "725/725 [==============================] - 24s 33ms/step - loss: 1.1326 - accuracy: 0.5733 - val_loss: 1.1731 - val_accuracy: 0.5555\n",
            "Epoch 31/60\n",
            "725/725 [==============================] - 24s 33ms/step - loss: 1.1193 - accuracy: 0.5762 - val_loss: 1.1680 - val_accuracy: 0.5597\n",
            "Epoch 32/60\n",
            "725/725 [==============================] - 24s 33ms/step - loss: 1.1209 - accuracy: 0.5747 - val_loss: 1.1545 - val_accuracy: 0.5628\n",
            "Epoch 33/60\n",
            "725/725 [==============================] - 24s 33ms/step - loss: 1.1109 - accuracy: 0.5795 - val_loss: 1.1650 - val_accuracy: 0.5609\n",
            "Epoch 34/60\n",
            "725/725 [==============================] - 24s 33ms/step - loss: 1.1005 - accuracy: 0.5843 - val_loss: 1.2392 - val_accuracy: 0.5257\n",
            "Epoch 35/60\n",
            "725/725 [==============================] - 24s 33ms/step - loss: 1.0913 - accuracy: 0.5877 - val_loss: 1.2360 - val_accuracy: 0.5350\n",
            "Epoch 36/60\n",
            "725/725 [==============================] - 24s 33ms/step - loss: 1.0952 - accuracy: 0.5887 - val_loss: 1.1552 - val_accuracy: 0.5626\n",
            "Epoch 37/60\n",
            "725/725 [==============================] - 25s 34ms/step - loss: 1.0765 - accuracy: 0.5922 - val_loss: 1.1413 - val_accuracy: 0.5697\n",
            "Epoch 38/60\n",
            "725/725 [==============================] - 25s 34ms/step - loss: 1.0748 - accuracy: 0.5947 - val_loss: 1.1839 - val_accuracy: 0.5548\n",
            "Epoch 39/60\n",
            "725/725 [==============================] - 24s 34ms/step - loss: 1.0661 - accuracy: 0.5995 - val_loss: 1.1319 - val_accuracy: 0.5686\n",
            "Epoch 40/60\n",
            "725/725 [==============================] - 25s 34ms/step - loss: 1.0633 - accuracy: 0.5985 - val_loss: 1.1519 - val_accuracy: 0.5695\n",
            "Epoch 41/60\n",
            "725/725 [==============================] - 24s 33ms/step - loss: 1.0540 - accuracy: 0.6004 - val_loss: 1.1573 - val_accuracy: 0.5619\n",
            "Epoch 42/60\n",
            "725/725 [==============================] - 25s 34ms/step - loss: 1.0524 - accuracy: 0.6037 - val_loss: 1.1451 - val_accuracy: 0.5783\n",
            "Epoch 43/60\n",
            "725/725 [==============================] - 24s 33ms/step - loss: 1.0454 - accuracy: 0.6081 - val_loss: 1.1992 - val_accuracy: 0.5636\n",
            "Epoch 44/60\n",
            "725/725 [==============================] - 24s 33ms/step - loss: 1.0360 - accuracy: 0.6123 - val_loss: 1.1783 - val_accuracy: 0.5698\n",
            "Epoch 45/60\n",
            "725/725 [==============================] - 24s 33ms/step - loss: 1.0275 - accuracy: 0.6127 - val_loss: 1.1497 - val_accuracy: 0.5695\n",
            "Epoch 46/60\n",
            "725/725 [==============================] - 24s 33ms/step - loss: 1.0201 - accuracy: 0.6175 - val_loss: 1.2249 - val_accuracy: 0.5717\n",
            "Epoch 47/60\n",
            "725/725 [==============================] - 25s 35ms/step - loss: 1.0270 - accuracy: 0.6142 - val_loss: 1.1248 - val_accuracy: 0.5728\n",
            "Epoch 48/60\n",
            "725/725 [==============================] - 24s 33ms/step - loss: 1.0191 - accuracy: 0.6158 - val_loss: 1.6355 - val_accuracy: 0.5555\n",
            "Epoch 49/60\n",
            "725/725 [==============================] - 24s 33ms/step - loss: 1.0136 - accuracy: 0.6204 - val_loss: 1.1807 - val_accuracy: 0.5728\n",
            "Epoch 50/60\n",
            "725/725 [==============================] - 24s 33ms/step - loss: 1.0075 - accuracy: 0.6212 - val_loss: 1.1355 - val_accuracy: 0.5857\n",
            "Epoch 51/60\n",
            "725/725 [==============================] - 24s 33ms/step - loss: 1.0014 - accuracy: 0.6213 - val_loss: 1.1617 - val_accuracy: 0.5716\n",
            "Epoch 52/60\n",
            "725/725 [==============================] - 24s 33ms/step - loss: 0.9931 - accuracy: 0.6276 - val_loss: 1.1866 - val_accuracy: 0.5619\n",
            "Epoch 53/60\n",
            "725/725 [==============================] - 24s 33ms/step - loss: 0.9834 - accuracy: 0.6348 - val_loss: 1.1294 - val_accuracy: 0.5800\n",
            "Epoch 54/60\n",
            "725/725 [==============================] - 24s 33ms/step - loss: 0.9770 - accuracy: 0.6338 - val_loss: 1.1433 - val_accuracy: 0.5695\n",
            "Epoch 55/60\n",
            "725/725 [==============================] - 24s 33ms/step - loss: 0.9683 - accuracy: 0.6375 - val_loss: 1.1945 - val_accuracy: 0.5643\n",
            "Epoch 56/60\n",
            "725/725 [==============================] - 24s 32ms/step - loss: 0.9711 - accuracy: 0.6385 - val_loss: 1.1272 - val_accuracy: 0.5803\n",
            "Epoch 57/60\n",
            "725/725 [==============================] - 25s 34ms/step - loss: 0.9647 - accuracy: 0.6410 - val_loss: 1.1751 - val_accuracy: 0.5657\n",
            "Epoch 58/60\n",
            "725/725 [==============================] - 24s 33ms/step - loss: 0.9505 - accuracy: 0.6438 - val_loss: 1.1913 - val_accuracy: 0.5621\n",
            "Epoch 59/60\n",
            "725/725 [==============================] - 24s 33ms/step - loss: 0.9527 - accuracy: 0.6420 - val_loss: 1.1849 - val_accuracy: 0.5653\n",
            "Epoch 60/60\n",
            "725/725 [==============================] - 25s 34ms/step - loss: 0.9499 - accuracy: 0.6431 - val_loss: 1.1589 - val_accuracy: 0.5731\n"
          ]
        }
      ],
      "source": [
        "optimizer = Adam(learning_rate=0.001)\n",
        "model.compile(optimizer=optimizer, loss='categorical_crossentropy', metrics=['accuracy'])\n",
        "history = model.fit(data_augmentation.flow(X_train, y_train_one_hot, batch_size=32), steps_per_epoch=len(X_train) / 32, validation_data=(X_val, y_val_one_hot), epochs=60)"
      ]
    },
    {
      "cell_type": "markdown",
      "metadata": {
        "id": "ZaMsejqI6gQP"
      },
      "source": [
        "6. Results"
      ]
    },
    {
      "cell_type": "code",
      "execution_count": null,
      "metadata": {
        "colab": {
          "base_uri": "https://localhost:8080/",
          "height": 507
        },
        "id": "u0lXzc30XfJh",
        "outputId": "2770e9e3-2bf8-4cad-aa17-c3a0ba9dd065"
      },
      "outputs": [
        {
          "data": {
            "image/png": "[encoded data removed]",
            "text/plain": [
              "<Figure size 1200x500 with 2 Axes>"
            ]
          },
          "metadata": {},
          "output_type": "display_data"
        }
      ],
      "source": [
        "plt.figure(figsize=(12, 5))\n",
        "plt.subplot(1, 2, 1)\n",
        "plt.plot(history.history['accuracy'], label='Training Accuracy')\n",
        "plt.plot(history.history['val_accuracy'], label='Validation Accuracy')\n",
        "plt.title('Accuracy')\n",
        "plt.xlabel('Epochs')\n",
        "plt.ylabel('Accuracy')\n",
        "plt.legend()\n",
        "\n",
        "plt.subplot(1, 2, 2)\n",
        "plt.plot(history.history['loss'], label='Training Loss')\n",
        "plt.plot(history.history['val_loss'], label='Validation Loss')\n",
        "plt.title('Loss')\n",
        "plt.xlabel('Epochs')\n",
        "plt.ylabel('Loss')\n",
        "plt.legend()\n",
        "\n",
        "plt.tight_layout()\n",
        "plt.show()"
      ]
    },
    {
      "cell_type": "code",
      "execution_count": null,
      "metadata": {
        "colab": {
          "base_uri": "https://localhost:8080/"
        },
        "id": "55yKNk9fXowV",
        "outputId": "9b8243f7-b965-4207-e891-88d6e60cb6e3"
      },
      "outputs": [
        {
          "name": "stdout",
          "output_type": "stream",
          "text": [
            "182/182 [==============================] - 2s 6ms/step\n",
            "Classification Report:\n",
            "               precision    recall  f1-score   support\n",
            "\n",
            "           0       0.47      0.51      0.49       799\n",
            "           1       0.50      0.33      0.40        88\n",
            "           2       0.41      0.39      0.40       828\n",
            "           3       0.82      0.77      0.80      1458\n",
            "           4       0.48      0.40      0.44       988\n",
            "           5       0.68      0.72      0.70       641\n",
            "           6       0.48      0.59      0.53       998\n",
            "\n",
            "    accuracy                           0.57      5800\n",
            "   macro avg       0.55      0.53      0.53      5800\n",
            "weighted avg       0.58      0.57      0.57      5800\n",
            "\n"
          ]
        }
      ],
      "source": [
        "val_predictions = model.predict(X_val)\n",
        "val_predictions_indices = np.argmax(val_predictions, axis=1)\n",
        "\n",
        "cls_report = classification_report(np.argmax(y_val_one_hot, axis=1), val_predictions_indices)\n",
        "print(\"Classification Report:\\n\", cls_report)"
      ]
    },
    {
      "cell_type": "code",
      "execution_count": null,
      "metadata": {
        "colab": {
          "base_uri": "https://localhost:8080/"
        },
        "id": "rNU6o_sNdQ94",
        "outputId": "f000dc11-6b82-4b2d-f08f-973be2da63be"
      },
      "outputs": [
        {
          "name": "stdout",
          "output_type": "stream",
          "text": [
            "Mean Validation Accuracy: 0.5254\n",
            "Standard Deviation of Validation Accuracy: 0.0660\n"
          ]
        }
      ],
      "source": [
        "val_acc = history.history['val_accuracy']\n",
        "mean_val_acc = np.mean(val_acc)\n",
        "std_dev_val_acc = np.std(val_acc)\n",
        "\n",
        "print(f\"Mean Validation Accuracy: {mean_val_acc:.4f}\")\n",
        "print(f\"Standard Deviation of Validation Accuracy: {std_dev_val_acc:.4f}\")"
      ]
    },
    {
      "cell_type": "markdown",
      "metadata": {
        "id": "PP3frf_BcLTZ"
      },
      "source": [
        "✅ **Model 2: ResNet50**\n",
        "\n",
        "There are problems with the above model. The loss is decreasing on the training set, but not on the validation set, it is jumping around. The accuracy is slowly increasing on both. However, after epoch 3, the loss did not decrease, and accuracy did not increase, at the same rate on the validation set as it did on the training set.\n",
        "\n",
        "To improve the model, we can consider a model with SGD and a lower learning rate once more layers are frozen. We may then change the batch size to 64, and train the model for longer. This may help to balance out the training time whilst also allowing the model to converge. We will also try adding in dropout as we are training the model for longer, and would like to ensure no overfitting.\n",
        "\n",
        "The choice of SGD is due to the fact SGD can sometimes reach better final performance than Adam can, although it takes longer to converge. We may also see a smoother descent toward convergence, as opposed to the jumping around we have seen whilst using Adam.  "
      ]
    },
    {
      "cell_type": "markdown",
      "metadata": {
        "id": "YcmGP_ov6oAJ"
      },
      "source": [
        "1. Load model, add in dropout. Start with Adam for 3 epochs."
      ]
    },
    {
      "cell_type": "code",
      "execution_count": null,
      "metadata": {
        "colab": {
          "base_uri": "https://localhost:8080/"
        },
        "id": "aWLf0E_VYC4z",
        "outputId": "fc2f84af-28a6-4b52-ec4b-4778612d4e0a"
      },
      "outputs": [
        {
          "name": "stdout",
          "output_type": "stream",
          "text": [
            "Epoch 1/3\n",
            "725/725 [==============================] - 27s 30ms/step - loss: 2.1635 - accuracy: 0.2177 - val_loss: 1.7520 - val_accuracy: 0.3019\n",
            "Epoch 2/3\n",
            "725/725 [==============================] - 21s 29ms/step - loss: 1.7996 - accuracy: 0.2668 - val_loss: 1.7273 - val_accuracy: 0.3091\n",
            "Epoch 3/3\n",
            "725/725 [==============================] - 21s 29ms/step - loss: 1.7649 - accuracy: 0.2802 - val_loss: 1.7183 - val_accuracy: 0.3162\n"
          ]
        }
      ],
      "source": [
        "model_base = ResNet50(weights='imagenet', include_top=False, input_shape=(48, 48, 3))\n",
        "\n",
        "for layer in model_base.layers:\n",
        "    layer.trainable = False\n",
        "\n",
        "x = GlobalAveragePooling2D()(model_base.output)\n",
        "x = BatchNormalization()(x)\n",
        "x = Dropout(0.5)(x)\n",
        "x = Dense(100, activation='relu')(x)\n",
        "x = BatchNormalization()(x)\n",
        "x = Dropout(0.5)(x)\n",
        "n_classes = 7\n",
        "predictions = Dense(n_classes, activation='softmax')(x)\n",
        "\n",
        "model = Model(inputs=model_base.input, outputs=predictions)\n",
        "\n",
        "optimizer = Adam(learning_rate=0.001)\n",
        "model.compile(optimizer=optimizer, loss='categorical_crossentropy', metrics=['accuracy'])\n",
        "\n",
        "history = model.fit(data_augmentation.flow(X_train, y_train_one_hot, batch_size=32), steps_per_epoch=len(X_train) / 32, validation_data=(X_val, y_val_one_hot), epochs=3)"
      ]
    },
    {
      "cell_type": "markdown",
      "metadata": {
        "id": "UUsF_vm26wZp"
      },
      "source": [
        "2. Unfreeze more of the layers this time, lower learning rate and switch to SGD, then recompile model."
      ]
    },
    {
      "cell_type": "code",
      "execution_count": null,
      "metadata": {
        "colab": {
          "base_uri": "https://localhost:8080/"
        },
        "id": "IG9EVBBhYZbL",
        "outputId": "5d59c492-f8be-48f5-c674-df414dc4747d"
      },
      "outputs": [
        {
          "name": "stdout",
          "output_type": "stream",
          "text": [
            "Epoch 1/60\n",
            "362/362 [==============================] - 39s 61ms/step - loss: 1.8318 - accuracy: 0.2359 - val_loss: 1.7809 - val_accuracy: 0.2684\n",
            "Epoch 2/60\n",
            "362/362 [==============================] - 21s 58ms/step - loss: 1.7971 - accuracy: 0.2547 - val_loss: 1.7436 - val_accuracy: 0.2940\n",
            "Epoch 3/60\n",
            "362/362 [==============================] - 21s 57ms/step - loss: 1.7592 - accuracy: 0.2812 - val_loss: 1.7099 - val_accuracy: 0.3166\n",
            "Epoch 4/60\n",
            "362/362 [==============================] - 20s 56ms/step - loss: 1.7153 - accuracy: 0.3053 - val_loss: 1.6469 - val_accuracy: 0.3507\n",
            "Epoch 5/60\n",
            "362/362 [==============================] - 20s 55ms/step - loss: 1.6723 - accuracy: 0.3290 - val_loss: 1.5985 - val_accuracy: 0.3776\n",
            "Epoch 6/60\n",
            "362/362 [==============================] - 20s 55ms/step - loss: 1.6406 - accuracy: 0.3453 - val_loss: 1.5655 - val_accuracy: 0.3966\n",
            "Epoch 7/60\n",
            "362/362 [==============================] - 21s 57ms/step - loss: 1.6189 - accuracy: 0.3618 - val_loss: 1.5441 - val_accuracy: 0.4024\n",
            "Epoch 8/60\n",
            "362/362 [==============================] - 21s 57ms/step - loss: 1.5957 - accuracy: 0.3710 - val_loss: 1.5073 - val_accuracy: 0.4200\n",
            "Epoch 9/60\n",
            "362/362 [==============================] - 20s 56ms/step - loss: 1.5727 - accuracy: 0.3841 - val_loss: 1.4962 - val_accuracy: 0.4276\n",
            "Epoch 10/60\n",
            "362/362 [==============================] - 21s 57ms/step - loss: 1.5532 - accuracy: 0.3945 - val_loss: 1.4709 - val_accuracy: 0.4284\n",
            "Epoch 11/60\n",
            "362/362 [==============================] - 21s 57ms/step - loss: 1.5397 - accuracy: 0.4047 - val_loss: 1.4662 - val_accuracy: 0.4390\n",
            "Epoch 12/60\n",
            "362/362 [==============================] - 21s 56ms/step - loss: 1.5231 - accuracy: 0.4101 - val_loss: 1.4411 - val_accuracy: 0.4459\n",
            "Epoch 13/60\n",
            "362/362 [==============================] - 21s 57ms/step - loss: 1.5049 - accuracy: 0.4172 - val_loss: 1.4254 - val_accuracy: 0.4567\n",
            "Epoch 14/60\n",
            "362/362 [==============================] - 21s 57ms/step - loss: 1.4948 - accuracy: 0.4206 - val_loss: 1.4110 - val_accuracy: 0.4610\n",
            "Epoch 15/60\n",
            "362/362 [==============================] - 21s 57ms/step - loss: 1.4847 - accuracy: 0.4317 - val_loss: 1.4044 - val_accuracy: 0.4640\n",
            "Epoch 16/60\n",
            "362/362 [==============================] - 21s 58ms/step - loss: 1.4748 - accuracy: 0.4275 - val_loss: 1.3967 - val_accuracy: 0.4653\n",
            "Epoch 17/60\n",
            "362/362 [==============================] - 21s 57ms/step - loss: 1.4630 - accuracy: 0.4335 - val_loss: 1.3758 - val_accuracy: 0.4779\n",
            "Epoch 18/60\n",
            "362/362 [==============================] - 22s 60ms/step - loss: 1.4562 - accuracy: 0.4393 - val_loss: 1.3606 - val_accuracy: 0.4826\n",
            "Epoch 19/60\n",
            "362/362 [==============================] - 21s 59ms/step - loss: 1.4412 - accuracy: 0.4472 - val_loss: 1.3598 - val_accuracy: 0.4816\n",
            "Epoch 20/60\n",
            "362/362 [==============================] - 21s 57ms/step - loss: 1.4289 - accuracy: 0.4528 - val_loss: 1.3510 - val_accuracy: 0.4814\n",
            "Epoch 21/60\n",
            "362/362 [==============================] - 21s 59ms/step - loss: 1.4260 - accuracy: 0.4544 - val_loss: 1.3509 - val_accuracy: 0.4838\n",
            "Epoch 22/60\n",
            "362/362 [==============================] - 20s 56ms/step - loss: 1.4159 - accuracy: 0.4545 - val_loss: 1.3517 - val_accuracy: 0.4855\n",
            "Epoch 23/60\n",
            "362/362 [==============================] - 20s 56ms/step - loss: 1.4074 - accuracy: 0.4635 - val_loss: 1.3270 - val_accuracy: 0.4959\n",
            "Epoch 24/60\n",
            "362/362 [==============================] - 21s 58ms/step - loss: 1.3991 - accuracy: 0.4625 - val_loss: 1.3210 - val_accuracy: 0.4957\n",
            "Epoch 25/60\n",
            "362/362 [==============================] - 21s 58ms/step - loss: 1.3903 - accuracy: 0.4690 - val_loss: 1.3091 - val_accuracy: 0.5024\n",
            "Epoch 26/60\n",
            "362/362 [==============================] - 20s 56ms/step - loss: 1.3856 - accuracy: 0.4686 - val_loss: 1.3025 - val_accuracy: 0.5016\n",
            "Epoch 27/60\n",
            "362/362 [==============================] - 21s 58ms/step - loss: 1.3747 - accuracy: 0.4745 - val_loss: 1.3135 - val_accuracy: 0.4969\n",
            "Epoch 28/60\n",
            "362/362 [==============================] - 21s 57ms/step - loss: 1.3732 - accuracy: 0.4740 - val_loss: 1.2916 - val_accuracy: 0.5093\n",
            "Epoch 29/60\n",
            "362/362 [==============================] - 21s 59ms/step - loss: 1.3622 - accuracy: 0.4771 - val_loss: 1.2973 - val_accuracy: 0.5078\n",
            "Epoch 30/60\n",
            "362/362 [==============================] - 21s 59ms/step - loss: 1.3613 - accuracy: 0.4795 - val_loss: 1.2932 - val_accuracy: 0.5059\n",
            "Epoch 31/60\n",
            "362/362 [==============================] - 20s 56ms/step - loss: 1.3463 - accuracy: 0.4824 - val_loss: 1.2782 - val_accuracy: 0.5114\n",
            "Epoch 32/60\n",
            "362/362 [==============================] - 21s 57ms/step - loss: 1.3430 - accuracy: 0.4874 - val_loss: 1.2864 - val_accuracy: 0.5086\n",
            "Epoch 33/60\n",
            "362/362 [==============================] - 21s 57ms/step - loss: 1.3423 - accuracy: 0.4847 - val_loss: 1.2650 - val_accuracy: 0.5179\n",
            "Epoch 34/60\n",
            "362/362 [==============================] - 21s 56ms/step - loss: 1.3384 - accuracy: 0.4937 - val_loss: 1.2708 - val_accuracy: 0.5166\n",
            "Epoch 35/60\n",
            "362/362 [==============================] - 21s 57ms/step - loss: 1.3298 - accuracy: 0.4957 - val_loss: 1.2618 - val_accuracy: 0.5188\n",
            "Epoch 36/60\n",
            "362/362 [==============================] - 21s 57ms/step - loss: 1.3248 - accuracy: 0.4941 - val_loss: 1.2582 - val_accuracy: 0.5205\n",
            "Epoch 37/60\n",
            "362/362 [==============================] - 21s 57ms/step - loss: 1.3196 - accuracy: 0.5005 - val_loss: 1.2510 - val_accuracy: 0.5221\n",
            "Epoch 38/60\n",
            "362/362 [==============================] - 21s 57ms/step - loss: 1.3161 - accuracy: 0.4995 - val_loss: 1.2419 - val_accuracy: 0.5221\n",
            "Epoch 39/60\n",
            "362/362 [==============================] - 21s 57ms/step - loss: 1.3134 - accuracy: 0.4993 - val_loss: 1.2327 - val_accuracy: 0.5326\n",
            "Epoch 40/60\n",
            "362/362 [==============================] - 21s 58ms/step - loss: 1.3044 - accuracy: 0.5044 - val_loss: 1.2296 - val_accuracy: 0.5338\n",
            "Epoch 41/60\n",
            "362/362 [==============================] - 21s 58ms/step - loss: 1.2955 - accuracy: 0.5054 - val_loss: 1.2325 - val_accuracy: 0.5267\n",
            "Epoch 42/60\n",
            "362/362 [==============================] - 21s 59ms/step - loss: 1.2979 - accuracy: 0.5061 - val_loss: 1.2295 - val_accuracy: 0.5288\n",
            "Epoch 43/60\n",
            "362/362 [==============================] - 21s 59ms/step - loss: 1.2837 - accuracy: 0.5099 - val_loss: 1.2261 - val_accuracy: 0.5295\n",
            "Epoch 44/60\n",
            "362/362 [==============================] - 21s 57ms/step - loss: 1.2863 - accuracy: 0.5142 - val_loss: 1.2322 - val_accuracy: 0.5307\n",
            "Epoch 45/60\n",
            "362/362 [==============================] - 21s 57ms/step - loss: 1.2797 - accuracy: 0.5118 - val_loss: 1.2269 - val_accuracy: 0.5290\n",
            "Epoch 46/60\n",
            "362/362 [==============================] - 21s 57ms/step - loss: 1.2799 - accuracy: 0.5141 - val_loss: 1.2212 - val_accuracy: 0.5357\n",
            "Epoch 47/60\n",
            "362/362 [==============================] - 20s 56ms/step - loss: 1.2735 - accuracy: 0.5158 - val_loss: 1.2082 - val_accuracy: 0.5414\n",
            "Epoch 48/60\n",
            "362/362 [==============================] - 20s 56ms/step - loss: 1.2672 - accuracy: 0.5177 - val_loss: 1.2201 - val_accuracy: 0.5384\n",
            "Epoch 49/60\n",
            "362/362 [==============================] - 20s 56ms/step - loss: 1.2652 - accuracy: 0.5209 - val_loss: 1.1981 - val_accuracy: 0.5440\n",
            "Epoch 50/60\n",
            "362/362 [==============================] - 21s 57ms/step - loss: 1.2585 - accuracy: 0.5234 - val_loss: 1.2048 - val_accuracy: 0.5452\n",
            "Epoch 51/60\n",
            "362/362 [==============================] - 20s 56ms/step - loss: 1.2598 - accuracy: 0.5221 - val_loss: 1.2015 - val_accuracy: 0.5426\n",
            "Epoch 52/60\n",
            "362/362 [==============================] - 20s 56ms/step - loss: 1.2491 - accuracy: 0.5247 - val_loss: 1.2169 - val_accuracy: 0.5372\n",
            "Epoch 53/60\n",
            "362/362 [==============================] - 21s 58ms/step - loss: 1.2491 - accuracy: 0.5288 - val_loss: 1.2078 - val_accuracy: 0.5379\n",
            "Epoch 54/60\n",
            "362/362 [==============================] - 20s 56ms/step - loss: 1.2433 - accuracy: 0.5339 - val_loss: 1.1929 - val_accuracy: 0.5479\n",
            "Epoch 55/60\n",
            "362/362 [==============================] - 20s 56ms/step - loss: 1.2338 - accuracy: 0.5321 - val_loss: 1.2070 - val_accuracy: 0.5397\n",
            "Epoch 56/60\n",
            "362/362 [==============================] - 21s 57ms/step - loss: 1.2339 - accuracy: 0.5316 - val_loss: 1.1802 - val_accuracy: 0.5555\n",
            "Epoch 57/60\n",
            "362/362 [==============================] - 20s 56ms/step - loss: 1.2286 - accuracy: 0.5360 - val_loss: 1.1972 - val_accuracy: 0.5417\n",
            "Epoch 58/60\n",
            "362/362 [==============================] - 20s 56ms/step - loss: 1.2245 - accuracy: 0.5393 - val_loss: 1.1933 - val_accuracy: 0.5466\n",
            "Epoch 59/60\n",
            "362/362 [==============================] - 20s 56ms/step - loss: 1.2299 - accuracy: 0.5347 - val_loss: 1.1847 - val_accuracy: 0.5514\n",
            "Epoch 60/60\n",
            "362/362 [==============================] - 20s 56ms/step - loss: 1.2139 - accuracy: 0.5422 - val_loss: 1.2015 - val_accuracy: 0.5455\n"
          ]
        }
      ],
      "source": [
        "for layer in model_base.layers[20:]:\n",
        "    layer.trainable = True\n",
        "\n",
        "optimizer = SGD(learning_rate=0.0001, momentum=0.9)\n",
        "model.compile(optimizer=optimizer, loss='categorical_crossentropy', metrics=['accuracy'])\n",
        "history = model.fit(data_augmentation.flow(X_train, y_train_one_hot, batch_size=64), steps_per_epoch=len(X_train) / 64, validation_data=(X_val, y_val_one_hot), epochs=60)"
      ]
    },
    {
      "cell_type": "markdown",
      "metadata": {
        "id": "TpNMT48_68WM"
      },
      "source": [
        "3. Results"
      ]
    },
    {
      "cell_type": "code",
      "execution_count": null,
      "metadata": {
        "colab": {
          "base_uri": "https://localhost:8080/",
          "height": 507
        },
        "id": "djUFhpjFYeZ1",
        "outputId": "ad408c2e-f07a-40b4-c5d8-7e2131548e31"
      },
      "outputs": [
        {
          "data": {
            "image/png": "[encoded data removed]",
            "text/plain": [
              "<Figure size 1200x500 with 2 Axes>"
            ]
          },
          "metadata": {},
          "output_type": "display_data"
        }
      ],
      "source": [
        "plt.figure(figsize=(12, 5))\n",
        "plt.subplot(1, 2, 1)\n",
        "plt.plot(history.history['accuracy'], label='Training Accuracy')\n",
        "plt.plot(history.history['val_accuracy'], label='Validation Accuracy')\n",
        "plt.title('Accuracy')\n",
        "plt.xlabel('Epochs')\n",
        "plt.ylabel('Accuracy')\n",
        "plt.legend()\n",
        "\n",
        "plt.subplot(1, 2, 2)\n",
        "plt.plot(history.history['loss'], label='Training Loss')\n",
        "plt.plot(history.history['val_loss'], label='Validation Loss')\n",
        "plt.title('Loss')\n",
        "plt.xlabel('Epochs')\n",
        "plt.ylabel('Loss')\n",
        "plt.legend()\n",
        "\n",
        "plt.tight_layout()\n",
        "plt.show()"
      ]
    },
    {
      "cell_type": "code",
      "execution_count": null,
      "metadata": {
        "colab": {
          "base_uri": "https://localhost:8080/"
        },
        "id": "NmbSJuLExdEu",
        "outputId": "e2e4eafd-9f5e-465f-ee3a-73284a6f683d"
      },
      "outputs": [
        {
          "name": "stdout",
          "output_type": "stream",
          "text": [
            "182/182 [==============================] - 2s 6ms/step\n",
            "Classification Report:\n",
            "               precision    recall  f1-score   support\n",
            "\n",
            "           0       0.46      0.36      0.40       799\n",
            "           1       0.69      0.10      0.18        88\n",
            "           2       0.41      0.24      0.30       828\n",
            "           3       0.84      0.72      0.78      1458\n",
            "           4       0.42      0.54      0.47       988\n",
            "           5       0.71      0.68      0.70       641\n",
            "           6       0.42      0.65      0.51       998\n",
            "\n",
            "    accuracy                           0.55      5800\n",
            "   macro avg       0.57      0.47      0.48      5800\n",
            "weighted avg       0.57      0.55      0.54      5800\n",
            "\n"
          ]
        }
      ],
      "source": [
        "val_predictions = model.predict(X_val)\n",
        "val_predictions_indices = np.argmax(val_predictions, axis=1)\n",
        "\n",
        "cls_report = classification_report(np.argmax(y_val_one_hot, axis=1), val_predictions_indices)\n",
        "print(\"Classification Report:\\n\", cls_report)"
      ]
    },
    {
      "cell_type": "code",
      "execution_count": null,
      "metadata": {
        "colab": {
          "base_uri": "https://localhost:8080/"
        },
        "id": "uvRf2hyS1s5h",
        "outputId": "603e7fdb-854a-4f52-96bc-ba6dce6759e5"
      },
      "outputs": [
        {
          "name": "stdout",
          "output_type": "stream",
          "text": [
            "Mean Validation Accuracy: 0.4887\n",
            "Standard Deviation of Validation Accuracy: 0.0644\n"
          ]
        }
      ],
      "source": [
        "val_acc = history.history['val_accuracy']\n",
        "mean_val_acc = np.mean(val_acc)\n",
        "std_dev_val_acc = np.std(val_acc)\n",
        "\n",
        "print(f\"Mean Validation Accuracy: {mean_val_acc:.4f}\")\n",
        "print(f\"Standard Deviation of Validation Accuracy: {std_dev_val_acc:.4f}\")"
      ]
    },
    {
      "cell_type": "markdown",
      "metadata": {
        "id": "2KtMTWocS43K"
      },
      "source": [
        "Dropout appears to have prevented overfitting to a degree, although there is still overfitting, and the learning rate is steadily decreasing which is likely due to the use of SGD with a lower learning rate on the opitimiser and learning rate used for the model with all the base model layers frozen. We would like the loss to converge, as at the moment it looks like the model can continue to learn. The model taking longer to learn is common when using SDG as the optimiser.\n",
        "\n",
        "Its tempting to run the below code, but it will take a lot of computational resources...."
      ]
    },
    {
      "cell_type": "markdown",
      "metadata": {
        "id": "7FdzX-bDR-Ae"
      },
      "source": [
        "4. Run again, for longer, and unfreeze more layers"
      ]
    },
    {
      "cell_type": "code",
      "execution_count": null,
      "metadata": {
        "id": "rdp0vDw_SElq"
      },
      "outputs": [],
      "source": [
        "# for layer in model_base.layers[5:]:\n",
        "   # layer.trainable = True\n",
        "\n",
        "# optimizer = SGD(learning_rate=0.0001, momentum=0.9)\n",
        "# model.compile(optimizer=optimizer, loss='categorical_crossentropy', metrics=['accuracy'])\n",
        "# history = model.fit(data_augmentation.flow(X_train, y_train_one_hot, batch_size=64), steps_per_epoch=len(X_train) / 64, validation_data=(X_val, y_val_one_hot), epochs=80)"
      ]
    },
    {
      "cell_type": "markdown",
      "metadata": {
        "id": "f0iDCix7alzZ"
      },
      "source": [
        "\n",
        "✅ **Model 3: ResNet50**\n",
        "\n",
        "This model now includes a learning rate scheduer, and uses Adam both before and after freezing model layers. This model also includes an extra layer. This model was initially tried without dropout. Dropout was then included to reduce some overfitting, but the model performed far worse, so dropout was removed again.\n",
        "\n",
        "We chose this model as considering the two models above, the model using Adam did seem to be learning more quickly whereas SDG was rather slow. A learning rate scheduler, alongside data augmentation and batch normalisation, may help the model to learn quickly and converge. Too large a learning rate can cause the model to converge too quickly to a suboptimal solution, or even diverge, while too small a learning rate can make the training process unnecessarily slow and prone to getting stuck in local minima. We saw the latter issue above. A learning rate scheduler helps to navigate this issue.\n"
      ]
    },
    {
      "cell_type": "markdown",
      "metadata": {
        "id": "DXeZu7mE6_1T"
      },
      "source": [
        "1. Load model, add another layer, remove dropout."
      ]
    },
    {
      "cell_type": "code",
      "execution_count": null,
      "metadata": {
        "colab": {
          "base_uri": "https://localhost:8080/"
        },
        "id": "EIDcuc48ajM-",
        "outputId": "127a6a21-6a77-436f-dbf4-8106575a5bcb"
      },
      "outputs": [
        {
          "name": "stdout",
          "output_type": "stream",
          "text": [
            "Downloading data from https://storage.googleapis.com/tensorflow/keras-applications/resnet/resnet50_weights_tf_dim_ordering_tf_kernels_notop.h5\n",
            "94765736/94765736 [==============================] - 5s 0us/step\n",
            "Model: \"sequential\"\n",
            "_________________________________________________________________\n",
            " Layer (type)                Output Shape              Param #   \n",
            "=================================================================\n",
            " resnet50 (Functional)       (None, 2, 2, 2048)        23587712  \n",
            "                                                                 \n",
            " global_average_pooling2d (  (None, 2048)              0         \n",
            " GlobalAveragePooling2D)                                         \n",
            "                                                                 \n",
            " flatten (Flatten)           (None, 2048)              0         \n",
            "                                                                 \n",
            " batch_normalization (Batch  (None, 2048)              8192      \n",
            " Normalization)                                                  \n",
            "                                                                 \n",
            " dense (Dense)               (None, 100)               204900    \n",
            "                                                                 \n",
            " batch_normalization_1 (Bat  (None, 100)               400       \n",
            " chNormalization)                                                \n",
            "                                                                 \n",
            " activation (Activation)     (None, 100)               0         \n",
            "                                                                 \n",
            " dense_1 (Dense)             (None, 150)               15150     \n",
            "                                                                 \n",
            " batch_normalization_2 (Bat  (None, 150)               600       \n",
            " chNormalization)                                                \n",
            "                                                                 \n",
            " activation_1 (Activation)   (None, 150)               0         \n",
            "                                                                 \n",
            " dense_2 (Dense)             (None, 7)                 1057      \n",
            "                                                                 \n",
            "=================================================================\n",
            "Total params: 23818011 (90.86 MB)\n",
            "Trainable params: 225703 (881.65 KB)\n",
            "Non-trainable params: 23592308 (90.00 MB)\n",
            "_________________________________________________________________\n"
          ]
        }
      ],
      "source": [
        "base_model = ResNet50(weights='imagenet', include_top=False, input_shape=(48, 48, 3))\n",
        "\n",
        "for layer in base_model.layers:\n",
        "    layer.trainable = False\n",
        "\n",
        "model = Sequential()\n",
        "model.add(base_model)\n",
        "model.add(GlobalAveragePooling2D())\n",
        "model.add(Flatten())\n",
        "model.add(BatchNormalization())\n",
        "model.add(Dense(100, kernel_initializer='he_uniform'))\n",
        "model.add(BatchNormalization())\n",
        "model.add(Activation('relu'))\n",
        "model.add(Dense(150, kernel_initializer='he_uniform'))\n",
        "model.add(BatchNormalization())\n",
        "model.add(Activation('relu'))\n",
        "model.add(Dense(7, activation='softmax'))\n",
        "\n",
        "model.summary()"
      ]
    },
    {
      "cell_type": "markdown",
      "metadata": {
        "id": "AJPgluMk7FIx"
      },
      "source": [
        "2. Compile model, train for 3 epochs."
      ]
    },
    {
      "cell_type": "code",
      "execution_count": null,
      "metadata": {
        "colab": {
          "base_uri": "https://localhost:8080/"
        },
        "id": "ulCGnNk0bfTj",
        "outputId": "41e50a75-85f6-40c6-c460-91585ad8bc64"
      },
      "outputs": [
        {
          "name": "stdout",
          "output_type": "stream",
          "text": [
            "Epoch 1/3\n",
            "725/725 [==============================] - 33s 34ms/step - loss: 1.7936 - accuracy: 0.2715 - val_loss: 1.7360 - val_accuracy: 0.3105\n",
            "Epoch 2/3\n",
            "725/725 [==============================] - 23s 32ms/step - loss: 1.7235 - accuracy: 0.3016 - val_loss: 1.7251 - val_accuracy: 0.3155\n",
            "Epoch 3/3\n",
            "725/725 [==============================] - 22s 31ms/step - loss: 1.6982 - accuracy: 0.3190 - val_loss: 1.6961 - val_accuracy: 0.3241\n"
          ]
        }
      ],
      "source": [
        "optimizer = Adam(learning_rate=0.001)\n",
        "model.compile(optimizer=optimizer, loss='categorical_crossentropy', metrics=['accuracy'])\n",
        "history = model.fit(data_augmentation.flow(X_train, y_train_one_hot, batch_size=32), steps_per_epoch=len(X_train) / 32, validation_data=(X_val, y_val_one_hot), epochs=3)"
      ]
    },
    {
      "cell_type": "markdown",
      "metadata": {
        "id": "LF883oog7KXl"
      },
      "source": [
        "3. Leave almost all of the layers unfrozen, except a few."
      ]
    },
    {
      "cell_type": "code",
      "execution_count": null,
      "metadata": {
        "colab": {
          "base_uri": "https://localhost:8080/"
        },
        "id": "Ew0BwgpAbjoX",
        "outputId": "4da02dcd-ea13-4501-a624-207d85f9a23a"
      },
      "outputs": [
        {
          "name": "stdout",
          "output_type": "stream",
          "text": [
            "Model: \"sequential\"\n",
            "_________________________________________________________________\n",
            " Layer (type)                Output Shape              Param #   \n",
            "=================================================================\n",
            " resnet50 (Functional)       (None, 2, 2, 2048)        23587712  \n",
            "                                                                 \n",
            " global_average_pooling2d (  (None, 2048)              0         \n",
            " GlobalAveragePooling2D)                                         \n",
            "                                                                 \n",
            " flatten (Flatten)           (None, 2048)              0         \n",
            "                                                                 \n",
            " batch_normalization (Batch  (None, 2048)              8192      \n",
            " Normalization)                                                  \n",
            "                                                                 \n",
            " dense (Dense)               (None, 100)               204900    \n",
            "                                                                 \n",
            " batch_normalization_1 (Bat  (None, 100)               400       \n",
            " chNormalization)                                                \n",
            "                                                                 \n",
            " activation (Activation)     (None, 100)               0         \n",
            "                                                                 \n",
            " dense_1 (Dense)             (None, 150)               15150     \n",
            "                                                                 \n",
            " batch_normalization_2 (Bat  (None, 150)               600       \n",
            " chNormalization)                                                \n",
            "                                                                 \n",
            " activation_1 (Activation)   (None, 150)               0         \n",
            "                                                                 \n",
            " dense_2 (Dense)             (None, 7)                 1057      \n",
            "                                                                 \n",
            "=================================================================\n",
            "Total params: 23818011 (90.86 MB)\n",
            "Trainable params: 23750695 (90.60 MB)\n",
            "Non-trainable params: 67316 (262.95 KB)\n",
            "_________________________________________________________________\n"
          ]
        }
      ],
      "source": [
        "N = 168\n",
        "for layer in base_model.layers[-N:]:\n",
        "    layer.trainable = True\n",
        "\n",
        "model.summary()"
      ]
    },
    {
      "cell_type": "markdown",
      "metadata": {
        "id": "YdMVx5qj7QqJ"
      },
      "source": [
        "4. Compile model again with LR scheduler, and early stopping."
      ]
    },
    {
      "cell_type": "code",
      "execution_count": null,
      "metadata": {
        "colab": {
          "base_uri": "https://localhost:8080/"
        },
        "id": "WLx6zZNkbniD",
        "outputId": "aec67b15-a99e-4226-b4d9-918050771121"
      },
      "outputs": [
        {
          "name": "stdout",
          "output_type": "stream",
          "text": [
            "Epoch 1/60\n",
            "725/725 [==============================] - 72s 50ms/step - loss: 1.4986 - accuracy: 0.4214 - val_loss: 2.2699 - val_accuracy: 0.1378\n",
            "Epoch 2/60\n",
            "725/725 [==============================] - 36s 49ms/step - loss: 1.3330 - accuracy: 0.4954 - val_loss: 2.6632 - val_accuracy: 0.1319\n",
            "Epoch 3/60\n",
            "725/725 [==============================] - 37s 51ms/step - loss: 1.2477 - accuracy: 0.5281 - val_loss: 2.7735 - val_accuracy: 0.1114\n",
            "Epoch 4/60\n",
            "725/725 [==============================] - 38s 52ms/step - loss: 1.1829 - accuracy: 0.5550 - val_loss: 2.2096 - val_accuracy: 0.1836\n",
            "Epoch 5/60\n",
            "725/725 [==============================] - 36s 50ms/step - loss: 1.1345 - accuracy: 0.5754 - val_loss: 4.6733 - val_accuracy: 0.1428\n",
            "Epoch 6/60\n",
            "725/725 [==============================] - 37s 51ms/step - loss: 1.0893 - accuracy: 0.5898 - val_loss: 2.2314 - val_accuracy: 0.2379\n",
            "Epoch 7/60\n",
            "725/725 [==============================] - 37s 50ms/step - loss: 1.0502 - accuracy: 0.6070 - val_loss: 2.9431 - val_accuracy: 0.2681\n",
            "Epoch 8/60\n",
            "725/725 [==============================] - 37s 51ms/step - loss: 1.0176 - accuracy: 0.6225 - val_loss: 3.2579 - val_accuracy: 0.1378\n",
            "Epoch 9/60\n",
            "725/725 [==============================] - 37s 51ms/step - loss: 0.9893 - accuracy: 0.6315 - val_loss: 1.8045 - val_accuracy: 0.3728\n",
            "Epoch 10/60\n",
            "725/725 [==============================] - 36s 50ms/step - loss: 0.9587 - accuracy: 0.6419 - val_loss: 1.4493 - val_accuracy: 0.4381\n",
            "Epoch 11/60\n",
            "725/725 [==============================] - 37s 50ms/step - loss: 0.9413 - accuracy: 0.6493 - val_loss: 1.5757 - val_accuracy: 0.4443\n",
            "Epoch 12/60\n",
            "725/725 [==============================] - 37s 51ms/step - loss: 0.9234 - accuracy: 0.6562 - val_loss: 1.2526 - val_accuracy: 0.5257\n",
            "Epoch 13/60\n",
            "725/725 [==============================] - 36s 50ms/step - loss: 0.9128 - accuracy: 0.6586 - val_loss: 1.1893 - val_accuracy: 0.5528\n",
            "Epoch 14/60\n",
            "725/725 [==============================] - 37s 50ms/step - loss: 0.9029 - accuracy: 0.6621 - val_loss: 1.5290 - val_accuracy: 0.4298\n",
            "Epoch 15/60\n",
            "725/725 [==============================] - 37s 51ms/step - loss: 0.8887 - accuracy: 0.6675 - val_loss: 1.1143 - val_accuracy: 0.5900\n",
            "Epoch 16/60\n",
            "725/725 [==============================] - 37s 51ms/step - loss: 0.8863 - accuracy: 0.6705 - val_loss: 1.0670 - val_accuracy: 0.6041\n",
            "Epoch 17/60\n",
            "725/725 [==============================] - 37s 51ms/step - loss: 0.8778 - accuracy: 0.6715 - val_loss: 1.0722 - val_accuracy: 0.6014\n",
            "Epoch 18/60\n",
            "725/725 [==============================] - 36s 50ms/step - loss: 0.8770 - accuracy: 0.6713 - val_loss: 1.0073 - val_accuracy: 0.6250\n",
            "Epoch 19/60\n",
            "725/725 [==============================] - 37s 51ms/step - loss: 0.8759 - accuracy: 0.6712 - val_loss: 1.0074 - val_accuracy: 0.6283\n",
            "Epoch 20/60\n",
            "725/725 [==============================] - 37s 51ms/step - loss: 0.8737 - accuracy: 0.6728 - val_loss: 1.0120 - val_accuracy: 0.6222\n",
            "Epoch 21/60\n",
            "725/725 [==============================] - 35s 49ms/step - loss: 0.8661 - accuracy: 0.6774 - val_loss: 1.0187 - val_accuracy: 0.6193\n",
            "Epoch 22/60\n",
            "725/725 [==============================] - 34s 47ms/step - loss: 0.8678 - accuracy: 0.6768 - val_loss: 0.9942 - val_accuracy: 0.6309\n",
            "Epoch 23/60\n",
            "725/725 [==============================] - 35s 48ms/step - loss: 0.8695 - accuracy: 0.6738 - val_loss: 1.0027 - val_accuracy: 0.6269\n",
            "Epoch 24/60\n",
            "725/725 [==============================] - 35s 48ms/step - loss: 0.8663 - accuracy: 0.6761 - val_loss: 1.0001 - val_accuracy: 0.6297\n",
            "Epoch 25/60\n",
            "725/725 [==============================] - 35s 48ms/step - loss: 0.8700 - accuracy: 0.6728 - val_loss: 0.9997 - val_accuracy: 0.6293\n",
            "Epoch 26/60\n",
            "725/725 [==============================] - 35s 48ms/step - loss: 0.8656 - accuracy: 0.6768 - val_loss: 1.0052 - val_accuracy: 0.6257\n",
            "Epoch 27/60\n",
            "725/725 [==============================] - 35s 48ms/step - loss: 0.8702 - accuracy: 0.6778 - val_loss: 1.0040 - val_accuracy: 0.6281\n",
            "Epoch 28/60\n",
            "725/725 [==============================] - 35s 48ms/step - loss: 0.8665 - accuracy: 0.6775 - val_loss: 1.0000 - val_accuracy: 0.6290\n",
            "Epoch 29/60\n",
            "725/725 [==============================] - 35s 48ms/step - loss: 0.8650 - accuracy: 0.6746 - val_loss: 1.0012 - val_accuracy: 0.6276\n",
            "Epoch 30/60\n",
            "725/725 [==============================] - 35s 48ms/step - loss: 0.8699 - accuracy: 0.6743 - val_loss: 1.0004 - val_accuracy: 0.6283\n",
            "Epoch 31/60\n",
            "725/725 [==============================] - 35s 48ms/step - loss: 0.8633 - accuracy: 0.6788 - val_loss: 1.0018 - val_accuracy: 0.6271\n",
            "Epoch 32/60\n",
            "725/725 [==============================] - ETA: 0s - loss: 0.8699 - accuracy: 0.6758Restoring model weights from the end of the best epoch: 22.\n",
            "725/725 [==============================] - 35s 48ms/step - loss: 0.8699 - accuracy: 0.6758 - val_loss: 1.0020 - val_accuracy: 0.6262\n",
            "Epoch 32: early stopping\n"
          ]
        }
      ],
      "source": [
        "initial_learning_rate = 0.001\n",
        "\n",
        "lr_schedule = tf.keras.optimizers.schedules.ExponentialDecay(\n",
        "    initial_learning_rate=initial_learning_rate,\n",
        "    decay_steps=100,\n",
        "    decay_rate=0.96,\n",
        "    staircase=True)\n",
        "\n",
        "early_stopping = EarlyStopping(\n",
        "    monitor='val_loss',\n",
        "    patience=10,\n",
        "    verbose=1,\n",
        "    restore_best_weights=True)\n",
        "\n",
        "callbacks_list = [early_stopping]\n",
        "\n",
        "optimizer = Adam(learning_rate=lr_schedule)\n",
        "model.compile(optimizer=optimizer, loss='categorical_crossentropy', metrics=['accuracy'])\n",
        "history = model.fit(\n",
        "    data_augmentation.flow(X_train, y_train_one_hot, batch_size=32),\n",
        "    steps_per_epoch=len(X_train) / 32,\n",
        "    validation_data=(X_val, y_val_one_hot),\n",
        "    epochs=60,\n",
        "    callbacks=callbacks_list)"
      ]
    },
    {
      "cell_type": "markdown",
      "metadata": {
        "id": "GngG6P1A7Z03"
      },
      "source": [
        "5. Results"
      ]
    },
    {
      "cell_type": "code",
      "execution_count": null,
      "metadata": {
        "colab": {
          "base_uri": "https://localhost:8080/",
          "height": 507
        },
        "id": "gnL-cvg3bqN9",
        "outputId": "1df4436f-0b6e-477e-99b2-52c979406556"
      },
      "outputs": [
        {
          "data": {
            "image/png": "[encoded data removed]",
            "text/plain": [
              "<Figure size 1200x500 with 2 Axes>"
            ]
          },
          "metadata": {},
          "output_type": "display_data"
        }
      ],
      "source": [
        "plt.figure(figsize=(12, 5))\n",
        "plt.subplot(1, 2, 1)\n",
        "plt.plot(history.history['accuracy'], label='Training Accuracy')\n",
        "plt.plot(history.history['val_accuracy'], label='Validation Accuracy')\n",
        "plt.title('Accuracy')\n",
        "plt.xlabel('Epochs')\n",
        "plt.ylabel('Accuracy')\n",
        "plt.legend()\n",
        "\n",
        "plt.subplot(1, 2, 2)\n",
        "plt.plot(history.history['loss'], label='Training Loss')\n",
        "plt.plot(history.history['val_loss'], label='Validation Loss')\n",
        "plt.title('Loss')\n",
        "plt.xlabel('Epochs')\n",
        "plt.ylabel('Loss')\n",
        "plt.legend()\n",
        "\n",
        "plt.tight_layout()\n",
        "plt.show()"
      ]
    },
    {
      "cell_type": "code",
      "execution_count": null,
      "metadata": {
        "colab": {
          "base_uri": "https://localhost:8080/"
        },
        "id": "PMDIG2rOxfnq",
        "outputId": "ab1385e6-5124-41c4-d20b-656c12fe7c42"
      },
      "outputs": [
        {
          "name": "stdout",
          "output_type": "stream",
          "text": [
            "182/182 [==============================] - 2s 7ms/step\n",
            "Classification Report:\n",
            "               precision    recall  f1-score   support\n",
            "\n",
            "           0       0.51      0.54      0.52       799\n",
            "           1       0.45      0.41      0.43        88\n",
            "           2       0.53      0.36      0.43       828\n",
            "           3       0.86      0.84      0.85      1458\n",
            "           4       0.52      0.54      0.53       988\n",
            "           5       0.75      0.74      0.74       641\n",
            "           6       0.54      0.67      0.60       998\n",
            "\n",
            "    accuracy                           0.63      5800\n",
            "   macro avg       0.59      0.58      0.59      5800\n",
            "weighted avg       0.63      0.63      0.63      5800\n",
            "\n"
          ]
        }
      ],
      "source": [
        "val_predictions = model.predict(X_val)\n",
        "val_predictions_indices = np.argmax(val_predictions, axis=1)\n",
        "cls_report = classification_report(np.argmax(y_val_one_hot, axis=1), val_predictions_indices)\n",
        "print(\"Classification Report:\\n\", cls_report)"
      ]
    },
    {
      "cell_type": "code",
      "execution_count": null,
      "metadata": {
        "colab": {
          "base_uri": "https://localhost:8080/"
        },
        "id": "86jJOjBm14HN",
        "outputId": "68e25b5f-64c1-41e2-bca4-689e6f48f98b"
      },
      "outputs": [
        {
          "name": "stdout",
          "output_type": "stream",
          "text": [
            "Mean Validation Accuracy: 0.4786\n",
            "Standard Deviation of Validation Accuracy: 0.1926\n"
          ]
        }
      ],
      "source": [
        "val_acc = history.history['val_accuracy']\n",
        "mean_val_acc = np.mean(val_acc)\n",
        "std_dev_val_acc = np.std(val_acc)\n",
        "\n",
        "print(f\"Mean Validation Accuracy: {mean_val_acc:.4f}\")\n",
        "print(f\"Standard Deviation of Validation Accuracy: {std_dev_val_acc:.4f}\")"
      ]
    },
    {
      "cell_type": "markdown",
      "metadata": {
        "id": "HfZX8Fvd7bxA"
      },
      "source": [
        "This was the best model so far. There is not too much overfitting. However, the downside is the model looks like it could continue to learn, yet it has stopped learning on the validation set. The model may also just be too complex for our data, which is simpler than ImageNet."
      ]
    },
    {
      "cell_type": "markdown",
      "metadata": {
        "id": "ptTgqGeSYw2D"
      },
      "source": [
        "✅ **Apply model to the entire train set**"
      ]
    },
    {
      "cell_type": "markdown",
      "metadata": {
        "id": "G3pgw317H2XQ"
      },
      "source": [
        "1. Normalise train data"
      ]
    },
    {
      "cell_type": "code",
      "execution_count": null,
      "metadata": {
        "id": "9cHLUOkNHzqC"
      },
      "outputs": [],
      "source": [
        "X_cnn = np.array([np.fromstring(img, dtype=np.float32, sep=' ') for img in X_cnn]) / 255.0\n",
        "X_cnn = X_cnn.reshape(-1, 48, 48, 1)"
      ]
    },
    {
      "cell_type": "markdown",
      "metadata": {
        "id": "VqAyGWkHIE5j"
      },
      "source": [
        "2. Mimic 3-scale colour image"
      ]
    },
    {
      "cell_type": "code",
      "execution_count": null,
      "metadata": {
        "id": "f88cKTEIICy9"
      },
      "outputs": [],
      "source": [
        "X_cnn = np.repeat(X_cnn, 3, axis=-1)"
      ]
    },
    {
      "cell_type": "markdown",
      "metadata": {
        "id": "KDJNui4UIIB9"
      },
      "source": [
        "3. Scale data"
      ]
    },
    {
      "cell_type": "code",
      "execution_count": null,
      "metadata": {
        "id": "g_MUGNVwIRLT"
      },
      "outputs": [],
      "source": [
        "scaler = StandardScaler()\n",
        "X_reshaped = X_cnn.reshape(-1, 48, 48, 3)\n",
        "X_scaled = scaler.fit_transform(X_reshaped.reshape(-1, 48*48*3)).reshape(-1, 48, 48, 3)"
      ]
    },
    {
      "cell_type": "markdown",
      "metadata": {
        "id": "YmIX0HZrIToc"
      },
      "source": [
        "4. One Hot encode Y"
      ]
    },
    {
      "cell_type": "code",
      "execution_count": null,
      "metadata": {
        "id": "SAXctxngIcq5"
      },
      "outputs": [],
      "source": [
        "y_cnn_one_hot = to_categorical(y_cnn)"
      ]
    },
    {
      "cell_type": "markdown",
      "metadata": {
        "id": "M-tQJTbTIsa4"
      },
      "source": [
        "5. Create model"
      ]
    },
    {
      "cell_type": "code",
      "execution_count": null,
      "metadata": {
        "colab": {
          "base_uri": "https://localhost:8080/"
        },
        "id": "gDd_gZrGc3eh",
        "outputId": "c5a3b39f-0708-46ca-e720-6b735f7a0c43"
      },
      "outputs": [
        {
          "name": "stdout",
          "output_type": "stream",
          "text": [
            "Model: \"sequential_1\"\n",
            "_________________________________________________________________\n",
            " Layer (type)                Output Shape              Param #   \n",
            "=================================================================\n",
            " resnet50 (Functional)       (None, 2, 2, 2048)        23587712  \n",
            "                                                                 \n",
            " global_average_pooling2d_1  (None, 2048)              0         \n",
            "  (GlobalAveragePooling2D)                                       \n",
            "                                                                 \n",
            " flatten_1 (Flatten)         (None, 2048)              0         \n",
            "                                                                 \n",
            " batch_normalization_3 (Bat  (None, 2048)              8192      \n",
            " chNormalization)                                                \n",
            "                                                                 \n",
            " dense_3 (Dense)             (None, 100)               204900    \n",
            "                                                                 \n",
            " batch_normalization_4 (Bat  (None, 100)               400       \n",
            " chNormalization)                                                \n",
            "                                                                 \n",
            " activation_2 (Activation)   (None, 100)               0         \n",
            "                                                                 \n",
            " dense_4 (Dense)             (None, 150)               15150     \n",
            "                                                                 \n",
            " batch_normalization_5 (Bat  (None, 150)               600       \n",
            " chNormalization)                                                \n",
            "                                                                 \n",
            " activation_3 (Activation)   (None, 150)               0         \n",
            "                                                                 \n",
            " dense_5 (Dense)             (None, 7)                 1057      \n",
            "                                                                 \n",
            "=================================================================\n",
            "Total params: 23818011 (90.86 MB)\n",
            "Trainable params: 225703 (881.65 KB)\n",
            "Non-trainable params: 23592308 (90.00 MB)\n",
            "_________________________________________________________________\n"
          ]
        }
      ],
      "source": [
        "base_model = ResNet50(weights='imagenet', include_top=False, input_shape=(48, 48, 3))\n",
        "\n",
        "for layer in base_model.layers:\n",
        "    layer.trainable = False\n",
        "\n",
        "model = Sequential()\n",
        "model.add(base_model)\n",
        "model.add(GlobalAveragePooling2D())\n",
        "model.add(Flatten())\n",
        "model.add(BatchNormalization())\n",
        "model.add(Dense(100, kernel_initializer='he_uniform'))\n",
        "model.add(BatchNormalization())\n",
        "model.add(Activation('relu'))\n",
        "model.add(Dense(150, kernel_initializer='he_uniform'))\n",
        "model.add(BatchNormalization())\n",
        "model.add(Activation('relu'))\n",
        "model.add(Dense(7, activation='softmax'))\n",
        "\n",
        "model.summary()"
      ]
    },
    {
      "cell_type": "code",
      "execution_count": null,
      "metadata": {
        "colab": {
          "base_uri": "https://localhost:8080/"
        },
        "id": "3R00ZeDSc4O0",
        "outputId": "bf55abc2-3110-47de-b619-a4c0d0fa7395"
      },
      "outputs": [
        {
          "name": "stdout",
          "output_type": "stream",
          "text": [
            "Epoch 1/3\n",
            "906/906 [==============================] - 31s 29ms/step - loss: 1.7788 - accuracy: 0.2784\n",
            "Epoch 2/3\n",
            "906/906 [==============================] - 26s 29ms/step - loss: 1.7128 - accuracy: 0.3067\n",
            "Epoch 3/3\n",
            "906/906 [==============================] - 26s 29ms/step - loss: 1.6902 - accuracy: 0.3224\n"
          ]
        }
      ],
      "source": [
        "optimizer = Adam(learning_rate=0.001)\n",
        "model.compile(optimizer=optimizer, loss='categorical_crossentropy', metrics=['accuracy'])\n",
        "history = model.fit(data_augmentation.flow(X_scaled, y_cnn_one_hot, batch_size=32),\n",
        "                    steps_per_epoch=len(X_scaled) / 32,\n",
        "                    epochs=3)"
      ]
    },
    {
      "cell_type": "code",
      "execution_count": null,
      "metadata": {
        "id": "q5K8i0NadBML"
      },
      "outputs": [],
      "source": [
        "N = 168\n",
        "for layer in base_model.layers[-N:]:\n",
        "    layer.trainable = True\n"
      ]
    },
    {
      "cell_type": "code",
      "execution_count": null,
      "metadata": {
        "colab": {
          "base_uri": "https://localhost:8080/"
        },
        "id": "eNQKRZW1dEvD",
        "outputId": "b986fdea-99d7-4d64-ecc5-909cfc1c7c73"
      },
      "outputs": [
        {
          "name": "stdout",
          "output_type": "stream",
          "text": [
            "Epoch 1/60\n",
            "906/906 [==============================] - 75s 48ms/step - loss: 1.3599 - accuracy: 0.4827\n",
            "Epoch 2/60\n",
            "906/906 [==============================] - 43s 48ms/step - loss: 1.2441 - accuracy: 0.5296\n",
            "Epoch 3/60\n",
            "906/906 [==============================] - 43s 47ms/step - loss: 1.1743 - accuracy: 0.5522\n",
            "Epoch 4/60\n",
            "906/906 [==============================] - 43s 47ms/step - loss: 1.1255 - accuracy: 0.5766\n",
            "Epoch 5/60\n",
            "906/906 [==============================] - 43s 47ms/step - loss: 1.0826 - accuracy: 0.5929\n",
            "Epoch 6/60\n",
            "906/906 [==============================] - 43s 47ms/step - loss: 1.0460 - accuracy: 0.6050\n",
            "Epoch 7/60\n",
            "906/906 [==============================] - 43s 47ms/step - loss: 1.0215 - accuracy: 0.6162\n",
            "Epoch 8/60\n",
            "906/906 [==============================] - 43s 47ms/step - loss: 1.0084 - accuracy: 0.6205\n",
            "Epoch 9/60\n",
            "906/906 [==============================] - 43s 47ms/step - loss: 0.9957 - accuracy: 0.6229\n",
            "Epoch 10/60\n",
            "906/906 [==============================] - 43s 48ms/step - loss: 0.9767 - accuracy: 0.6328\n",
            "Epoch 11/60\n",
            "906/906 [==============================] - 43s 47ms/step - loss: 0.9748 - accuracy: 0.6349\n",
            "Epoch 12/60\n",
            "906/906 [==============================] - 43s 47ms/step - loss: 0.9725 - accuracy: 0.6348\n",
            "Epoch 13/60\n",
            "906/906 [==============================] - 43s 47ms/step - loss: 0.9716 - accuracy: 0.6353\n",
            "Epoch 14/60\n",
            "906/906 [==============================] - 43s 48ms/step - loss: 0.9671 - accuracy: 0.6368\n",
            "Epoch 15/60\n",
            "906/906 [==============================] - 44s 48ms/step - loss: 0.9626 - accuracy: 0.6369\n",
            "Epoch 16/60\n",
            "906/906 [==============================] - 45s 49ms/step - loss: 0.9623 - accuracy: 0.6378\n",
            "Epoch 17/60\n",
            "906/906 [==============================] - 45s 49ms/step - loss: 0.9578 - accuracy: 0.6428\n",
            "Epoch 18/60\n",
            "906/906 [==============================] - 44s 49ms/step - loss: 0.9612 - accuracy: 0.6404\n",
            "Epoch 19/60\n",
            "906/906 [==============================] - 43s 47ms/step - loss: 0.9567 - accuracy: 0.6412\n",
            "Epoch 20/60\n",
            "906/906 [==============================] - 43s 47ms/step - loss: 0.9623 - accuracy: 0.6382\n",
            "Epoch 21/60\n",
            "906/906 [==============================] - 44s 48ms/step - loss: 0.9617 - accuracy: 0.6372\n",
            "Epoch 22/60\n",
            "906/906 [==============================] - 43s 48ms/step - loss: 0.9598 - accuracy: 0.6383\n",
            "Epoch 23/60\n",
            "906/906 [==============================] - 44s 48ms/step - loss: 0.9565 - accuracy: 0.6414\n",
            "Epoch 24/60\n",
            "906/906 [==============================] - 44s 48ms/step - loss: 0.9594 - accuracy: 0.6426\n",
            "Epoch 25/60\n",
            "906/906 [==============================] - 43s 48ms/step - loss: 0.9603 - accuracy: 0.6396\n",
            "Epoch 26/60\n",
            "906/906 [==============================] - 44s 48ms/step - loss: 0.9642 - accuracy: 0.6359\n",
            "Epoch 27/60\n",
            "906/906 [==============================] - 44s 48ms/step - loss: 0.9620 - accuracy: 0.6399\n",
            "Epoch 28/60\n",
            "906/906 [==============================] - 45s 50ms/step - loss: 0.9655 - accuracy: 0.6371\n",
            "Epoch 29/60\n",
            "906/906 [==============================] - 45s 49ms/step - loss: 0.9596 - accuracy: 0.6398\n",
            "Epoch 30/60\n",
            "906/906 [==============================] - 43s 48ms/step - loss: 0.9608 - accuracy: 0.6393\n",
            "Epoch 31/60\n",
            "906/906 [==============================] - 43s 48ms/step - loss: 0.9632 - accuracy: 0.6380\n",
            "Epoch 32/60\n",
            "906/906 [==============================] - 44s 48ms/step - loss: 0.9622 - accuracy: 0.6375\n",
            "Epoch 33/60\n",
            "906/906 [============================>.] - ETA: 0s - loss: 0.9609 - accuracy: 0.6387Restoring model weights from the end of the best epoch: 23.\n",
            "906/906 [==============================] - 43s 48ms/step - loss: 0.9609 - accuracy: 0.6388\n",
            "Epoch 33: early stopping\n"
          ]
        }
      ],
      "source": [
        "initial_learning_rate = 0.001\n",
        "\n",
        "lr_schedule = tf.keras.optimizers.schedules.ExponentialDecay(\n",
        "    initial_learning_rate=initial_learning_rate,\n",
        "    decay_steps=100,\n",
        "    decay_rate=0.96,\n",
        "    staircase=True)\n",
        "\n",
        "early_stopping = EarlyStopping(\n",
        "    monitor='loss',\n",
        "    patience=10,\n",
        "    verbose=1,\n",
        "    restore_best_weights=True)\n",
        "\n",
        "callbacks_list = [early_stopping]\n",
        "\n",
        "optimizer = Adam(learning_rate=lr_schedule)\n",
        "model.compile(optimizer=optimizer, loss='categorical_crossentropy', metrics=['accuracy'])\n",
        "history = model.fit(\n",
        "    data_augmentation.flow(X_scaled, y_cnn_one_hot, batch_size=32),\n",
        "    steps_per_epoch=len(X_scaled) / 32,\n",
        "    epochs=60,\n",
        "    callbacks=callbacks_list)"
      ]
    },
    {
      "cell_type": "code",
      "execution_count": null,
      "metadata": {
        "colab": {
          "base_uri": "https://localhost:8080/"
        },
        "id": "5PSqa_CxPg15",
        "outputId": "18d7db2c-b3c8-442f-f703-17cec1efbceb"
      },
      "outputs": [
        {
          "name": "stdout",
          "output_type": "stream",
          "text": [
            "907/907 [==============================] - 7s 8ms/step\n",
            "              precision    recall  f1-score   support\n",
            "\n",
            "           0       0.57      0.60      0.59      3993\n",
            "           1       0.60      0.37      0.45       440\n",
            "           2       0.56      0.36      0.43      4138\n",
            "           3       0.86      0.87      0.87      7289\n",
            "           4       0.57      0.48      0.52      4942\n",
            "           5       0.74      0.68      0.71      3206\n",
            "           6       0.52      0.78      0.63      4992\n",
            "\n",
            "    accuracy                           0.65     29000\n",
            "   macro avg       0.63      0.59      0.60     29000\n",
            "weighted avg       0.65      0.65      0.64     29000\n",
            "\n"
          ]
        }
      ],
      "source": [
        "y_pred = model.predict(X_scaled)\n",
        "y_pred_classes = np.argmax(y_pred, axis=1)\n",
        "y_true_classes = np.argmax(y_cnn_one_hot, axis=1)\n",
        "\n",
        "report = classification_report(y_true_classes, y_pred_classes)\n",
        "print(report)"
      ]
    },
    {
      "cell_type": "code",
      "execution_count": null,
      "metadata": {
        "colab": {
          "base_uri": "https://localhost:8080/"
        },
        "id": "kmRHjyQPQ-06",
        "outputId": "a6302b56-d49b-4570-de12-d073bf3f007a"
      },
      "outputs": [
        {
          "name": "stdout",
          "output_type": "stream",
          "text": [
            "Mean Training Accuracy: 0.62\n",
            "Standard Deviation of Training Accuracy: 0.04\n"
          ]
        }
      ],
      "source": [
        "training_accuracies = history.history['accuracy']\n",
        "mean_training_accuracy = np.mean(training_accuracies)\n",
        "std_dev_training_accuracy = np.std(training_accuracies)\n",
        "\n",
        "print(f\"Mean Training Accuracy: {mean_training_accuracy:.2f}\")\n",
        "print(f\"Standard Deviation of Training Accuracy: {std_dev_training_accuracy:.2f}\")"
      ]
    },
    {
      "cell_type": "markdown",
      "metadata": {
        "id": "qX3Aml8sXtGv"
      },
      "source": [
        "✅ **Apply the model to the test data**"
      ]
    },
    {
      "cell_type": "markdown",
      "metadata": {
        "id": "T8IMOjzUIz7V"
      },
      "source": [
        "1. Seperate X from id"
      ]
    },
    {
      "cell_type": "code",
      "execution_count": null,
      "metadata": {
        "id": "JPxLy4rkIwvk"
      },
      "outputs": [],
      "source": [
        "X = test_data['pixels'].copy()\n",
        "id = test_data['id'].copy()"
      ]
    },
    {
      "cell_type": "markdown",
      "metadata": {
        "id": "Nl00kHmGJD62"
      },
      "source": [
        "2. Normalise and re-shape"
      ]
    },
    {
      "cell_type": "code",
      "execution_count": null,
      "metadata": {
        "id": "nI3ADy_aJBqR"
      },
      "outputs": [],
      "source": [
        "X_test = np.array([np.fromstring(img, dtype=np.float32, sep=' ') for img in X]) / 255.0\n",
        "X_test = X_test.reshape(-1, 48, 48, 1)"
      ]
    },
    {
      "cell_type": "markdown",
      "metadata": {
        "id": "VOYqHd7QJhYF"
      },
      "source": [
        "3. Mimic 3-channe color image"
      ]
    },
    {
      "cell_type": "code",
      "execution_count": null,
      "metadata": {
        "id": "KQnmcdCIJlcD"
      },
      "outputs": [],
      "source": [
        "X_test = np.repeat(X_test, 3, axis=-1)"
      ]
    },
    {
      "cell_type": "markdown",
      "metadata": {
        "id": "g2lgL_nDJeYr"
      },
      "source": [
        "4. Scale the data"
      ]
    },
    {
      "cell_type": "code",
      "execution_count": null,
      "metadata": {
        "id": "htI0QVH4JXwG"
      },
      "outputs": [],
      "source": [
        "scaler = StandardScaler()\n",
        "X_reshaped = X_test.reshape(-1, 48, 48, 3)\n",
        "X_test_scaled = scaler.fit_transform(X_reshaped.reshape(-1, 48*48*3)).reshape(-1, 48, 48, 3)"
      ]
    },
    {
      "cell_type": "markdown",
      "metadata": {
        "id": "G2XYjkhGJvUg"
      },
      "source": [
        "5. Make predictions on the test data"
      ]
    },
    {
      "cell_type": "code",
      "execution_count": null,
      "metadata": {
        "colab": {
          "base_uri": "https://localhost:8080/"
        },
        "id": "6cLxkh7uJySH",
        "outputId": "520eab26-e09c-4a07-cdeb-19c30ca64fbc"
      },
      "outputs": [
        {
          "name": "stdout",
          "output_type": "stream",
          "text": [
            "216/216 [==============================] - 2s 9ms/step\n"
          ]
        }
      ],
      "source": [
        "predictions = model.predict(X_test_scaled)\n",
        "predicted_classes = np.argmax(predictions, axis=1)\n",
        "results = pd.DataFrame({'id': id, 'emotion': predicted_classes})"
      ]
    },
    {
      "cell_type": "markdown",
      "metadata": {
        "id": "4jGf0XBvJ5-8"
      },
      "source": [
        "6. Save results"
      ]
    },
    {
      "cell_type": "code",
      "execution_count": null,
      "metadata": {
        "id": "JCltyvwCX9n3"
      },
      "outputs": [],
      "source": [
        "results.to_csv('/content/drive/My Drive/predicted_emotions_final.csv', index=False)"
      ]
    },
    {
      "cell_type": "markdown",
      "metadata": {
        "id": "k4ron1UFToff"
      },
      "source": [
        "✅ **ResNet50V2 - with Pre-activation**\n",
        "\n",
        "He et al proposed a pre-activation structure to pre-activate the BN and ReLU to further improve the network performance. This worked very well on ImageNet, so we wanted to try it here. The first model shows no improvement, but we have not cosidered any hyperameter tuning, as we do not have more time."
      ]
    },
    {
      "cell_type": "code",
      "execution_count": null,
      "metadata": {
        "colab": {
          "base_uri": "https://localhost:8080/"
        },
        "id": "tA8DBUcTTnmS",
        "outputId": "26d815d1-2c9c-4a3d-8732-3f718da20ebe"
      },
      "outputs": [
        {
          "name": "stdout",
          "output_type": "stream",
          "text": [
            "Model: \"sequential_3\"\n",
            "_________________________________________________________________\n",
            " Layer (type)                Output Shape              Param #   \n",
            "=================================================================\n",
            " resnet50v2 (Functional)     (None, 2, 2, 2048)        23564800  \n",
            "                                                                 \n",
            " global_average_pooling2d_2  (None, 2048)              0         \n",
            "  (GlobalAveragePooling2D)                                       \n",
            "                                                                 \n",
            " flatten_2 (Flatten)         (None, 2048)              0         \n",
            "                                                                 \n",
            " batch_normalization_6 (Bat  (None, 2048)              8192      \n",
            " chNormalization)                                                \n",
            "                                                                 \n",
            " dense_6 (Dense)             (None, 100)               204900    \n",
            "                                                                 \n",
            " batch_normalization_7 (Bat  (None, 100)               400       \n",
            " chNormalization)                                                \n",
            "                                                                 \n",
            " activation_4 (Activation)   (None, 100)               0         \n",
            "                                                                 \n",
            " dense_7 (Dense)             (None, 150)               15150     \n",
            "                                                                 \n",
            " batch_normalization_8 (Bat  (None, 150)               600       \n",
            " chNormalization)                                                \n",
            "                                                                 \n",
            " activation_5 (Activation)   (None, 150)               0         \n",
            "                                                                 \n",
            " dense_8 (Dense)             (None, 7)                 1057      \n",
            "                                                                 \n",
            "=================================================================\n",
            "Total params: 23795099 (90.77 MB)\n",
            "Trainable params: 225703 (881.65 KB)\n",
            "Non-trainable params: 23569396 (89.91 MB)\n",
            "_________________________________________________________________\n"
          ]
        }
      ],
      "source": [
        "base_model = ResNet50V2(weights='imagenet', include_top=False, input_shape=(48, 48, 3))\n",
        "\n",
        "for layer in base_model.layers:\n",
        "    layer.trainable = False\n",
        "\n",
        "model = Sequential()\n",
        "model.add(base_model)\n",
        "model.add(GlobalAveragePooling2D())\n",
        "model.add(Flatten())\n",
        "model.add(BatchNormalization())\n",
        "model.add(Dense(100, kernel_initializer='he_uniform'))\n",
        "model.add(BatchNormalization())\n",
        "model.add(Activation('relu'))\n",
        "model.add(Dense(150, kernel_initializer='he_uniform'))\n",
        "model.add(BatchNormalization())\n",
        "model.add(Activation('relu'))\n",
        "model.add(Dense(7, activation='softmax'))\n",
        "\n",
        "model.summary()"
      ]
    },
    {
      "cell_type": "code",
      "execution_count": null,
      "metadata": {
        "colab": {
          "base_uri": "https://localhost:8080/"
        },
        "id": "gsWg_F331Mez",
        "outputId": "00c12579-b7e7-492a-8cda-95c823611c82"
      },
      "outputs": [
        {
          "name": "stdout",
          "output_type": "stream",
          "text": [
            "Epoch 1/3\n",
            "725/725 [==============================] - 29s 33ms/step - loss: 1.7485 - accuracy: 0.2929 - val_loss: 1.6691 - val_accuracy: 0.3388\n",
            "Epoch 2/3\n",
            "725/725 [==============================] - 22s 31ms/step - loss: 1.6763 - accuracy: 0.3249 - val_loss: 1.6499 - val_accuracy: 0.3374\n",
            "Epoch 3/3\n",
            "725/725 [==============================] - 22s 30ms/step - loss: 1.6523 - accuracy: 0.3344 - val_loss: 1.6216 - val_accuracy: 0.3552\n"
          ]
        }
      ],
      "source": [
        "optimizer = Adam(learning_rate=0.001)\n",
        "model.compile(optimizer=optimizer, loss='categorical_crossentropy', metrics=['accuracy'])\n",
        "history = model.fit(data_augmentation.flow(X_train, y_train_one_hot, batch_size=32), steps_per_epoch=len(X_train) / 32, validation_data=(X_val, y_val_one_hot), epochs=3)"
      ]
    },
    {
      "cell_type": "code",
      "execution_count": null,
      "metadata": {
        "colab": {
          "base_uri": "https://localhost:8080/"
        },
        "id": "lFDOFQCmRZsf",
        "outputId": "ce6dc07f-0e04-46a8-ca50-0cbc5a7fc0bf"
      },
      "outputs": [
        {
          "name": "stdout",
          "output_type": "stream",
          "text": [
            "Model: \"sequential_3\"\n",
            "_________________________________________________________________\n",
            " Layer (type)                Output Shape              Param #   \n",
            "=================================================================\n",
            " resnet50v2 (Functional)     (None, 2, 2, 2048)        23564800  \n",
            "                                                                 \n",
            " global_average_pooling2d_2  (None, 2048)              0         \n",
            "  (GlobalAveragePooling2D)                                       \n",
            "                                                                 \n",
            " flatten_2 (Flatten)         (None, 2048)              0         \n",
            "                                                                 \n",
            " batch_normalization_6 (Bat  (None, 2048)              8192      \n",
            " chNormalization)                                                \n",
            "                                                                 \n",
            " dense_6 (Dense)             (None, 100)               204900    \n",
            "                                                                 \n",
            " batch_normalization_7 (Bat  (None, 100)               400       \n",
            " chNormalization)                                                \n",
            "                                                                 \n",
            " activation_4 (Activation)   (None, 100)               0         \n",
            "                                                                 \n",
            " dense_7 (Dense)             (None, 150)               15150     \n",
            "                                                                 \n",
            " batch_normalization_8 (Bat  (None, 150)               600       \n",
            " chNormalization)                                                \n",
            "                                                                 \n",
            " activation_5 (Activation)   (None, 150)               0         \n",
            "                                                                 \n",
            " dense_8 (Dense)             (None, 7)                 1057      \n",
            "                                                                 \n",
            "=================================================================\n",
            "Total params: 23795099 (90.77 MB)\n",
            "Trainable params: 23519655 (89.72 MB)\n",
            "Non-trainable params: 275444 (1.05 MB)\n",
            "_________________________________________________________________\n"
          ]
        }
      ],
      "source": [
        "N = 150\n",
        "for layer in base_model.layers[-N:]:\n",
        "    layer.trainable = True\n",
        "\n",
        "model.summary()"
      ]
    },
    {
      "cell_type": "code",
      "execution_count": 51,
      "metadata": {
        "colab": {
          "base_uri": "https://localhost:8080/",
          "height": 0
        },
        "id": "hiqHgyGPgaI7",
        "outputId": "abc8fc6e-204b-46a5-b0f4-81fc7ae17167"
      },
      "outputs": [
        {
          "name": "stdout",
          "output_type": "stream",
          "text": [
            "Epoch 1/60\n",
            "725/725 [==============================] - 52s 41ms/step - loss: 1.3756 - accuracy: 0.4699 - val_loss: 1.8310 - val_accuracy: 0.4848\n",
            "Epoch 2/60\n",
            "725/725 [==============================] - 28s 39ms/step - loss: 1.3297 - accuracy: 0.4857 - val_loss: 1.5802 - val_accuracy: 0.4974\n",
            "Epoch 3/60\n",
            "725/725 [==============================] - 28s 39ms/step - loss: 1.3052 - accuracy: 0.4928 - val_loss: 4.9329 - val_accuracy: 0.5303\n",
            "Epoch 4/60\n",
            "725/725 [==============================] - 28s 39ms/step - loss: 1.2747 - accuracy: 0.5071 - val_loss: 8.3910 - val_accuracy: 0.5252\n",
            "Epoch 5/60\n",
            "725/725 [==============================] - 28s 39ms/step - loss: 1.2461 - accuracy: 0.5139 - val_loss: 3.4255 - val_accuracy: 0.5260\n",
            "Epoch 6/60\n",
            "725/725 [==============================] - 29s 39ms/step - loss: 1.2333 - accuracy: 0.5259 - val_loss: 5.0869 - val_accuracy: 0.5360\n",
            "Epoch 7/60\n",
            "725/725 [==============================] - 28s 39ms/step - loss: 1.2194 - accuracy: 0.5300 - val_loss: 1.4214 - val_accuracy: 0.5440\n",
            "Epoch 8/60\n",
            "725/725 [==============================] - 28s 38ms/step - loss: 1.2072 - accuracy: 0.5336 - val_loss: 1.4335 - val_accuracy: 0.5395\n",
            "Epoch 9/60\n",
            "725/725 [==============================] - 29s 40ms/step - loss: 1.1981 - accuracy: 0.5381 - val_loss: 1.4014 - val_accuracy: 0.5467\n",
            "Epoch 10/60\n",
            "725/725 [==============================] - 29s 40ms/step - loss: 1.1926 - accuracy: 0.5401 - val_loss: 1.8051 - val_accuracy: 0.5493\n",
            "Epoch 11/60\n",
            "725/725 [==============================] - 30s 41ms/step - loss: 1.1850 - accuracy: 0.5405 - val_loss: 2.1008 - val_accuracy: 0.5522\n",
            "Epoch 12/60\n",
            "725/725 [==============================] - 30s 41ms/step - loss: 1.1830 - accuracy: 0.5472 - val_loss: 1.8159 - val_accuracy: 0.5562\n",
            "Epoch 13/60\n",
            "725/725 [==============================] - 30s 42ms/step - loss: 1.1796 - accuracy: 0.5451 - val_loss: 1.9213 - val_accuracy: 0.5528\n",
            "Epoch 14/60\n",
            "725/725 [==============================] - 30s 41ms/step - loss: 1.1830 - accuracy: 0.5457 - val_loss: 1.8413 - val_accuracy: 0.5519\n",
            "Epoch 15/60\n",
            "725/725 [==============================] - 30s 42ms/step - loss: 1.1753 - accuracy: 0.5506 - val_loss: 2.4416 - val_accuracy: 0.5529\n",
            "Epoch 16/60\n",
            "725/725 [==============================] - 30s 41ms/step - loss: 1.1769 - accuracy: 0.5462 - val_loss: 2.5280 - val_accuracy: 0.5538\n",
            "Epoch 17/60\n",
            "725/725 [==============================] - 30s 41ms/step - loss: 1.1708 - accuracy: 0.5503 - val_loss: 2.3830 - val_accuracy: 0.5517\n",
            "Epoch 18/60\n",
            "725/725 [==============================] - 29s 40ms/step - loss: 1.1720 - accuracy: 0.5485 - val_loss: 1.9159 - val_accuracy: 0.5553\n",
            "Epoch 19/60\n",
            "725/725 [==============================] - 29s 40ms/step - loss: 1.1772 - accuracy: 0.5484 - val_loss: 1.9929 - val_accuracy: 0.5548\n",
            "Epoch 20/60\n",
            "725/725 [==============================] - 28s 39ms/step - loss: 1.1779 - accuracy: 0.5495 - val_loss: 1.8829 - val_accuracy: 0.5548\n",
            "Epoch 21/60\n",
            "725/725 [==============================] - 28s 39ms/step - loss: 1.1715 - accuracy: 0.5470 - val_loss: 1.8135 - val_accuracy: 0.5534\n",
            "Epoch 22/60\n",
            "725/725 [==============================] - 28s 39ms/step - loss: 1.1705 - accuracy: 0.5491 - val_loss: 2.0472 - val_accuracy: 0.5538\n",
            "Epoch 23/60\n",
            "725/725 [==============================] - 28s 39ms/step - loss: 1.1726 - accuracy: 0.5511 - val_loss: 1.8959 - val_accuracy: 0.5543\n",
            "Epoch 24/60\n",
            "725/725 [==============================] - 28s 38ms/step - loss: 1.1747 - accuracy: 0.5490 - val_loss: 2.0593 - val_accuracy: 0.5555\n",
            "Epoch 25/60\n",
            "725/725 [==============================] - 28s 38ms/step - loss: 1.1729 - accuracy: 0.5486 - val_loss: 2.3280 - val_accuracy: 0.5547\n",
            "Epoch 26/60\n",
            "725/725 [==============================] - 28s 39ms/step - loss: 1.1774 - accuracy: 0.5475 - val_loss: 1.7380 - val_accuracy: 0.5552\n",
            "Epoch 27/60\n",
            "725/725 [==============================] - 28s 39ms/step - loss: 1.1725 - accuracy: 0.5483 - val_loss: 2.0626 - val_accuracy: 0.5545\n",
            "Epoch 28/60\n",
            "725/725 [==============================] - 28s 39ms/step - loss: 1.1724 - accuracy: 0.5490 - val_loss: 2.0447 - val_accuracy: 0.5545\n",
            "Epoch 29/60\n",
            "725/725 [==============================] - 28s 38ms/step - loss: 1.1710 - accuracy: 0.5478 - val_loss: 2.2686 - val_accuracy: 0.5552\n",
            "Epoch 30/60\n",
            "725/725 [==============================] - 28s 38ms/step - loss: 1.1731 - accuracy: 0.5486 - val_loss: 2.1167 - val_accuracy: 0.5540\n",
            "Epoch 31/60\n",
            "725/725 [==============================] - 29s 40ms/step - loss: 1.1727 - accuracy: 0.5450 - val_loss: 1.8650 - val_accuracy: 0.5543\n",
            "Epoch 32/60\n",
            "725/725 [==============================] - 29s 40ms/step - loss: 1.1744 - accuracy: 0.5515 - val_loss: 2.2723 - val_accuracy: 0.5547\n",
            "Epoch 33/60\n",
            "725/725 [==============================] - 29s 40ms/step - loss: 1.1750 - accuracy: 0.5462 - val_loss: 2.0681 - val_accuracy: 0.5547\n",
            "Epoch 34/60\n",
            "725/725 [==============================] - 29s 40ms/step - loss: 1.1734 - accuracy: 0.5504 - val_loss: 2.0076 - val_accuracy: 0.5543\n",
            "Epoch 35/60\n",
            "725/725 [==============================] - 29s 40ms/step - loss: 1.1667 - accuracy: 0.5502 - val_loss: 1.9203 - val_accuracy: 0.5545\n",
            "Epoch 36/60\n",
            "725/725 [==============================] - 29s 40ms/step - loss: 1.1708 - accuracy: 0.5494 - val_loss: 2.2321 - val_accuracy: 0.5543\n",
            "Epoch 37/60\n",
            "725/725 [==============================] - 30s 41ms/step - loss: 1.1713 - accuracy: 0.5488 - val_loss: 2.1196 - val_accuracy: 0.5547\n",
            "Epoch 38/60\n",
            "725/725 [==============================] - 29s 41ms/step - loss: 1.1698 - accuracy: 0.5505 - val_loss: 2.4049 - val_accuracy: 0.5545\n",
            "Epoch 39/60\n",
            "725/725 [==============================] - 29s 40ms/step - loss: 1.1758 - accuracy: 0.5466 - val_loss: 1.7491 - val_accuracy: 0.5534\n",
            "Epoch 40/60\n",
            "725/725 [==============================] - 29s 40ms/step - loss: 1.1729 - accuracy: 0.5418 - val_loss: 2.2288 - val_accuracy: 0.5536\n",
            "Epoch 41/60\n",
            "725/725 [==============================] - 29s 40ms/step - loss: 1.1714 - accuracy: 0.5500 - val_loss: 2.1244 - val_accuracy: 0.5550\n",
            "Epoch 42/60\n",
            "725/725 [==============================] - 29s 41ms/step - loss: 1.1750 - accuracy: 0.5497 - val_loss: 2.0866 - val_accuracy: 0.5538\n",
            "Epoch 43/60\n",
            "725/725 [==============================] - 30s 41ms/step - loss: 1.1736 - accuracy: 0.5469 - val_loss: 2.3464 - val_accuracy: 0.5557\n",
            "Epoch 44/60\n",
            "725/725 [==============================] - 29s 40ms/step - loss: 1.1668 - accuracy: 0.5518 - val_loss: 2.0063 - val_accuracy: 0.5540\n",
            "Epoch 45/60\n",
            "725/725 [==============================] - 29s 40ms/step - loss: 1.1695 - accuracy: 0.5510 - val_loss: 1.9512 - val_accuracy: 0.5540\n",
            "Epoch 46/60\n",
            "725/725 [==============================] - 29s 40ms/step - loss: 1.1722 - accuracy: 0.5466 - val_loss: 2.1671 - val_accuracy: 0.5552\n",
            "Epoch 47/60\n",
            "725/725 [==============================] - 29s 40ms/step - loss: 1.1766 - accuracy: 0.5467 - val_loss: 2.2615 - val_accuracy: 0.5553\n",
            "Epoch 48/60\n",
            "725/725 [==============================] - 29s 40ms/step - loss: 1.1723 - accuracy: 0.5480 - val_loss: 2.0586 - val_accuracy: 0.5548\n",
            "Epoch 49/60\n",
            "725/725 [==============================] - 29s 40ms/step - loss: 1.1713 - accuracy: 0.5488 - val_loss: 2.1717 - val_accuracy: 0.5557\n",
            "Epoch 50/60\n",
            "725/725 [==============================] - 29s 41ms/step - loss: 1.1717 - accuracy: 0.5513 - val_loss: 1.8557 - val_accuracy: 0.5550\n",
            "Epoch 51/60\n",
            "725/725 [==============================] - 29s 40ms/step - loss: 1.1744 - accuracy: 0.5472 - val_loss: 2.0648 - val_accuracy: 0.5541\n",
            "Epoch 52/60\n",
            "725/725 [==============================] - 29s 40ms/step - loss: 1.1719 - accuracy: 0.5472 - val_loss: 2.1682 - val_accuracy: 0.5553\n",
            "Epoch 53/60\n",
            "725/725 [==============================] - 29s 40ms/step - loss: 1.1745 - accuracy: 0.5478 - val_loss: 2.1920 - val_accuracy: 0.5552\n",
            "Epoch 54/60\n",
            "725/725 [==============================] - 29s 40ms/step - loss: 1.1744 - accuracy: 0.5450 - val_loss: 1.8350 - val_accuracy: 0.5559\n",
            "Epoch 55/60\n",
            "725/725 [==============================] - 29s 40ms/step - loss: 1.1750 - accuracy: 0.5472 - val_loss: 2.5128 - val_accuracy: 0.5547\n",
            "Epoch 56/60\n",
            "725/725 [==============================] - 29s 40ms/step - loss: 1.1697 - accuracy: 0.5477 - val_loss: 1.8085 - val_accuracy: 0.5553\n",
            "Epoch 57/60\n",
            "725/725 [==============================] - 29s 40ms/step - loss: 1.1711 - accuracy: 0.5478 - val_loss: 2.0821 - val_accuracy: 0.5538\n",
            "Epoch 58/60\n",
            "725/725 [==============================] - 29s 40ms/step - loss: 1.1755 - accuracy: 0.5488 - val_loss: 2.3910 - val_accuracy: 0.5552\n",
            "Epoch 59/60\n",
            "725/725 [==============================] - 30s 41ms/step - loss: 1.1753 - accuracy: 0.5481 - val_loss: 1.9002 - val_accuracy: 0.5545\n",
            "Epoch 60/60\n",
            "725/725 [==============================] - 29s 40ms/step - loss: 1.1746 - accuracy: 0.5494 - val_loss: 2.1570 - val_accuracy: 0.5547\n"
          ]
        }
      ],
      "source": [
        "initial_learning_rate = 0.001\n",
        "\n",
        "lr_schedule = tf.keras.optimizers.schedules.ExponentialDecay(\n",
        "    initial_learning_rate=initial_learning_rate,\n",
        "    decay_steps=100,\n",
        "    decay_rate=0.96,\n",
        "    staircase=True)\n",
        "\n",
        "early_stopping = EarlyStopping(\n",
        "    monitor='val_loss',\n",
        "    patience=10,\n",
        "    verbose=1,\n",
        "    restore_best_weights=True)\n",
        "\n",
        "callbacks_list = [early_stopping]\n",
        "\n",
        "optimizer = Adam(learning_rate=lr_schedule)\n",
        "model.compile(optimizer=optimizer, loss='categorical_crossentropy', metrics=['accuracy'])\n",
        "history = model.fit(data_augmentation.flow(X_train, y_train_one_hot, batch_size=32), steps_per_epoch=len(X_train) / 32, validation_data=(X_val, y_val_one_hot), epochs=60)"
      ]
    },
    {
      "cell_type": "code",
      "execution_count": 52,
      "metadata": {
        "colab": {
          "base_uri": "https://localhost:8080/",
          "height": 507
        },
        "id": "9bju97mK3ZAb",
        "outputId": "f2025835-dd64-49c8-b324-00a8be0f36b9"
      },
      "outputs": [
        {
          "data": {
            "image/png": "[encoded data removed]",
            "text/plain": [
              "<Figure size 1200x500 with 2 Axes>"
            ]
          },
          "metadata": {},
          "output_type": "display_data"
        }
      ],
      "source": [
        "plt.figure(figsize=(12, 5))\n",
        "plt.subplot(1, 2, 1)\n",
        "plt.plot(history.history['accuracy'], label='Training Accuracy')\n",
        "plt.plot(history.history['val_accuracy'], label='Validation Accuracy')\n",
        "plt.title('Accuracy')\n",
        "plt.xlabel('Epochs')\n",
        "plt.ylabel('Accuracy')\n",
        "plt.legend()\n",
        "\n",
        "plt.subplot(1, 2, 2)\n",
        "plt.plot(history.history['loss'], label='Training Loss')\n",
        "plt.plot(history.history['val_loss'], label='Validation Loss')\n",
        "plt.title('Loss')\n",
        "plt.xlabel('Epochs')\n",
        "plt.ylabel('Loss')\n",
        "plt.legend()\n",
        "\n",
        "plt.tight_layout()\n",
        "plt.show()"
      ]
    },
    {
      "cell_type": "code",
      "execution_count": 53,
      "metadata": {
        "colab": {
          "base_uri": "https://localhost:8080/"
        },
        "id": "_9dENLut3EZJ",
        "outputId": "3c13ffd9-c7b7-49c1-ff1f-680d3dbc400b"
      },
      "outputs": [
        {
          "name": "stdout",
          "output_type": "stream",
          "text": [
            "Mean Validation Accuracy: 0.5500\n",
            "Standard Deviation of Validation Accuracy: 0.0129\n"
          ]
        }
      ],
      "source": [
        "val_acc = history.history['val_accuracy']\n",
        "\n",
        "mean_val_acc = np.mean(val_acc)\n",
        "std_dev_val_acc = np.std(val_acc)\n",
        "\n",
        "print(f\"Mean Validation Accuracy: {mean_val_acc:.4f}\")\n",
        "print(f\"Standard Deviation of Validation Accuracy: {std_dev_val_acc:.4f}\")"
      ]
    },
    {
      "cell_type": "markdown",
      "metadata": {
        "id": "bd2zEPxF3LoV"
      },
      "source": [
        "**Learnings, Results and Improvements**\n",
        "\n",
        "Firstly, we will consider our models and their accuracys in the table below.\n",
        "Our best model was ResNet50, model 3, with almost all layers unfrozen, the Learning Rate Scheduler, Batch Normalisation and Adam as the optimiser both before and after freezing layers. On the test set, this achieved 62%. This was our best model due to the optimiser and LRS allowing the model to converge (to an extent) and also, batch normalisation and data augmentation prevented overfitting.\n",
        "\n",
        "The mean val accuracy shows lower on our best model, but this is due to less epochs in total having a high accuracy, as then seen on the full train and test set.\n",
        "\n",
        "\n",
        "```\n",
        "\n",
        "```\n",
        "\n",
        "\n",
        "**Results Table for model with Train and Val**\n",
        "\n",
        "| Model                | Val Mean Accuracy | Standard Deviation |\n",
        "|--------------------- |-------------------|--------------------|\n",
        "| Random Forest        |         43%       |   Unrecovered      |\n",
        "| DNN Basic            |         33%       |        0.06        |\n",
        "| DNN Random Search    |        36%        |        0.03        |\n",
        "| ResNet50 Model 0     |       51%         |        0.07        |\n",
        "| ResNet50 Model 1     |         52%       |        0.06        |\n",
        "| ResNet50 Model 2     |         48%       |      0.06          |\n",
        "| ResNet50 Model 3     |         47%       |         0.19       |\n",
        "| ResNet50V2 Model 5   |         55%       |         0.01       |\n",
        "\n",
        "\n",
        "```\n",
        "\n",
        "```\n",
        "\n",
        "**Results Table for model with full train and test**\n",
        "\n",
        "| Model                |  Accuracy         | Standard Deviation |\n",
        "|--------------------- |-------------------|--------------------|\n",
        "| ResNet50 Model train |       62%         |        0.04        |\n",
        "| Best Model Test Set  |         62%       |  Unrecovered        |\n",
        "| Kaggle Score         |         62%       |        Unrecovered |\n",
        "\n",
        "```\n",
        "\n",
        "```\n",
        "\n",
        "\n",
        "**How can we improve the model?**\n",
        "\n",
        "There are many things we may have done:\n",
        "\n",
        "1.   The models are struggling to predict Class 1, or predicting the class with more instances a lot higher, so ideally, we would have used SMOTE.This was an issue we saw repeated throughout the analysis, so in hindsight this shouldnt have been overlooked. Although interestingly our best model didn't seem to have problems predicting class 1. \n",
        "\n",
        "2.   We could have tried many more model parameters, such as more layers, and different units. However, it may be the case that the ResNet50 model is actually too complicated for our dataset which may be why it was struggling with the validation set. Perhaps a simpler version of ResNet may have been better.\n",
        "\n",
        "**What did we learn?**\n",
        "\n",
        "1. As expected, ResNet50 performs best on our dataset than DNN'S and Random Forests. Data Augmentation and batch normalisation improve model performance and prevent overfitting with the ResNet50 model.\n",
        "\n",
        "2. For the DNN, a Random Search is useful, especially when creating a class to specify the hyperparameters known to work well with one another. However, a grid search may be better, but computationally expensive.\n",
        "\n",
        "3. For ResNet50, Adam is the best optimiser, for ensuring the model learns quickly, however it leads to a rockier learning rate than the smooth downward slope we saw when using the SGD optimiser. We didn't really give the model with SGD the length of time to train that it deserved - it may have continued to learn. Implementing a Learning Rate Scheduler with Adam led to the best outcome,as it prevented the model getting stuck in local minima, which it appeared to be doing previously.\n",
        "\n",
        "4. Our final model stopped learning at a certain point, which was slightly frustrating. But overall, our score was not too bad.\n",
        "\n",
        "5. Running these models takes up a huge amount of computational time and resources. Being picky about the hyperameters helps, alongside knowledge of what will work well with this kind of dataset.\n"
      ]
    }
  ],
  "metadata": {
    "accelerator": "GPU",
    "colab": {
      "gpuType": "A100",
      "provenance": []
    },
    "kernelspec": {
      "display_name": "Python 3",
      "name": "python3"
    },
    "language_info": {
      "codemirror_mode": {
        "name": "ipython",
        "version": 3
      },
      "file_extension": ".py",
      "mimetype": "text/x-python",
      "name": "python",
      "nbconvert_exporter": "python",
      "pygments_lexer": "ipython3",
      "version": "3.12.2"
    }
  },
  "nbformat": 4,
  "nbformat_minor": 0
}
